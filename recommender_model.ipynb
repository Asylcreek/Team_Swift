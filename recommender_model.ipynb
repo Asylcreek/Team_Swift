{
 "cells": [
  {
   "cell_type": "code",
   "execution_count": 1,
   "metadata": {},
   "outputs": [],
   "source": [
    "#importing libraries\n",
    "import pandas as pd\n",
    "import numpy as np"
   ]
  },
  {
   "cell_type": "code",
   "execution_count": 4,
   "metadata": {},
   "outputs": [
    {
     "name": "stdout",
     "output_type": "stream",
     "text": [
      "\n",
      "User Data :\n",
      "shape :  (2293, 4)\n",
      "   user_id                   name   username  \\\n",
      "0        1     Eniayomi Oluwaseyi   eniayomi   \n",
      "1        2          Elijah Okokon    DMatrix   \n",
      "2        3           Jeffrey Ogah  jeff.ogah   \n",
      "3        4  Oluwaseyi Oluwapelumi     nathan   \n",
      "4        5                   PoRH      lamar   \n",
      "\n",
      "                                           short_bio  \n",
      "0               Software Developer | DevOPs Engineer  \n",
      "1                                      Web Developer  \n",
      "2  Front End Developer | React Developer | Mentor...  \n",
      "3  | Software Developer | DevOps Engineer | @linu...  \n",
      "4            I Am lamar and you don't think am real?  \n",
      "\n",
      "Post Data :\n",
      "shape : (876, 6)\n",
      "   post_id  user_id                              title  \\\n",
      "0        1     2077  What i have learnt so far on HTML   \n",
      "1        2     1719                   HTML BEGINS HERE   \n",
      "2        4     1310            My Laziness In The Open   \n",
      "3        6     1787                          MY TASK 2   \n",
      "4        7      167                             Task 2   \n",
      "\n",
      "                                             content        tags  \\\n",
      "0  I learnt how to use the table tag as i have us...         NaN   \n",
      "1   I am on this journey with start.ng, and here ...  Technology   \n",
      "2  I have not been attending classes on the HNG c...         NaN   \n",
      "3  My journey on **StartNG** pre-internship progr...         NaN   \n",
      "4   A Summary on The “idongesit.html” CV, Its Str...         NaN   \n",
      "\n",
      "                                    slug  \n",
      "0  what-i-have-learnt-so-far-on-html-985  \n",
      "1                   html-begins-here-4d6  \n",
      "2            my-laziness-in-the-open-029  \n",
      "3                          my-task-2-649  \n",
      "4                             task-2-7e5  \n",
      "\n",
      "Following Data :\n",
      "shape : (10592, 3)\n",
      "   my_id  follower_id  status\n",
      "0      3            6       1\n",
      "1      6            3       1\n",
      "2      3            2       1\n",
      "3      3            7       1\n",
      "4      7            2       1\n",
      "\n",
      "Rating Data :\n",
      "shape : (29, 3)\n",
      "   post_id  user_id  ratings\n",
      "0      986        4        5\n",
      "1      986        4        5\n",
      "2      985        4        5\n",
      "3      985        1        5\n",
      "4      992        2        5\n"
     ]
    }
   ],
   "source": [
    "#reading and viewing user file:\n",
    "users = pd.read_csv('users.csv')\n",
    "print(\"\\nUser Data :\")\n",
    "print(\"shape : \", users.shape)\n",
    "print(users.head())\n",
    "\n",
    "#reading and viewing POSTS File:\n",
    "posts = pd.read_csv('posts.csv')\n",
    "print(\"\\nPost Data :\")\n",
    "print(\"shape :\", posts.shape)\n",
    "print(posts.head())\n",
    "\n",
    "#reading and viewing Following file:\n",
    "following = pd.read_csv('following.csv')\n",
    "print(\"\\nFollowing Data :\")\n",
    "print(\"shape :\", following.shape)\n",
    "print(following.head())\n",
    "\n",
    "#reading and viewing ratings file:\n",
    "ratings = pd.read_csv('rating.csv')\n",
    "print(\"\\nRating Data :\")\n",
    "print(\"shape :\", ratings.shape)\n",
    "print(ratings.head())"
   ]
  },
  {
   "cell_type": "code",
   "execution_count": 24,
   "metadata": {},
   "outputs": [
    {
     "name": "stdout",
     "output_type": "stream",
     "text": [
      "6\n",
      "12\n"
     ]
    }
   ],
   "source": [
    "#Calculating the amount of unique users and posts\n",
    "n_users = ratings.user_id.unique().shape[0]\n",
    "n_posts = ratings.post_id.unique().shape[0]\n",
    "print(n_users)\n",
    "print(n_posts)"
   ]
  },
  {
   "cell_type": "code",
   "execution_count": 23,
   "metadata": {
    "scrolled": true
   },
   "outputs": [
    {
     "name": "stdout",
     "output_type": "stream",
     "text": [
      "<bound method DataFrame.itertuples of     post_id  user_id  ratings\n",
      "0       986        4        5\n",
      "1       986        4        5\n",
      "2       985        4        5\n",
      "3       985        1        5\n",
      "4       992        2        5\n",
      "5       355        1        5\n",
      "6       353        1        5\n",
      "7       996        1        5\n",
      "8       992        9        5\n",
      "9       992        9        5\n",
      "10      992        9        5\n",
      "11      992        2        5\n",
      "12      993       34        5\n",
      "13      993       34        5\n",
      "14      996        3        5\n",
      "15      996        3        5\n",
      "16      998        9        5\n",
      "17      998        3        5\n",
      "18      995        3        5\n",
      "19      993        4        5\n",
      "20      983        4        5\n",
      "21      983        4        5\n",
      "22      985        2        5\n",
      "23      985        2        5\n",
      "24      999        1        5\n",
      "25     1007        3        5\n",
      "26      998        2        5\n",
      "27      999        4        5\n",
      "28      998        4        5>\n",
      "Pandas(Index=0, post_id=986, user_id=4, ratings=5)\n",
      "986\n",
      "985\n",
      "4\n",
      "3\n",
      "5\n"
     ]
    },
    {
     "ename": "IndexError",
     "evalue": "index 985 is out of bounds for axis 0 with size 6",
     "output_type": "error",
     "traceback": [
      "\u001b[1;31m---------------------------------------------------------------------------\u001b[0m",
      "\u001b[1;31mIndexError\u001b[0m                                Traceback (most recent call last)",
      "\u001b[1;32m<ipython-input-23-7df99a4336d3>\u001b[0m in \u001b[0;36m<module>\u001b[1;34m\u001b[0m\n\u001b[0;32m     10\u001b[0m     \u001b[0mprint\u001b[0m\u001b[1;33m(\u001b[0m\u001b[0mline\u001b[0m\u001b[1;33m[\u001b[0m\u001b[1;36m2\u001b[0m\u001b[1;33m]\u001b[0m\u001b[1;33m-\u001b[0m\u001b[1;36m1\u001b[0m\u001b[1;33m)\u001b[0m\u001b[1;33m\u001b[0m\u001b[1;33m\u001b[0m\u001b[0m\n\u001b[0;32m     11\u001b[0m     \u001b[0mprint\u001b[0m\u001b[1;33m(\u001b[0m\u001b[0mline\u001b[0m\u001b[1;33m[\u001b[0m\u001b[1;36m3\u001b[0m\u001b[1;33m]\u001b[0m\u001b[1;33m)\u001b[0m\u001b[1;33m\u001b[0m\u001b[1;33m\u001b[0m\u001b[0m\n\u001b[1;32m---> 12\u001b[1;33m     \u001b[0mdata_matrix\u001b[0m\u001b[1;33m[\u001b[0m\u001b[0mline\u001b[0m\u001b[1;33m[\u001b[0m\u001b[1;36m1\u001b[0m\u001b[1;33m]\u001b[0m\u001b[1;33m-\u001b[0m\u001b[1;36m1\u001b[0m\u001b[1;33m,\u001b[0m \u001b[0mline\u001b[0m\u001b[1;33m[\u001b[0m\u001b[1;36m2\u001b[0m\u001b[1;33m]\u001b[0m\u001b[1;33m-\u001b[0m\u001b[1;36m1\u001b[0m\u001b[1;33m]\u001b[0m \u001b[1;33m=\u001b[0m \u001b[0mline\u001b[0m\u001b[1;33m[\u001b[0m\u001b[1;36m3\u001b[0m\u001b[1;33m]\u001b[0m\u001b[1;33m\u001b[0m\u001b[1;33m\u001b[0m\u001b[0m\n\u001b[0m",
      "\u001b[1;31mIndexError\u001b[0m: index 985 is out of bounds for axis 0 with size 6"
     ]
    }
   ],
   "source": [
    "#creating a user-post matrix(will be used to calc. for similarities)\n",
    "data_matrix = np.zeros((n_users, n_posts))\n",
    "\n",
    "for line in ratings.itertuples():\n",
    "    print(ratings.itertuples)\n",
    "    print(line)\n",
    "    print(line[1])\n",
    "    print(line[1]-1)\n",
    "    print(line[2])\n",
    "    print(line[2]-1)\n",
    "    print(line[3])\n",
    "    data_matrix[line[1]-1, line[2]-1] = line[3]"
   ]
  },
  {
   "cell_type": "code",
   "execution_count": 7,
   "metadata": {},
   "outputs": [
    {
     "ename": "ValueError",
     "evalue": "Unknown metric cosnine. Valid metrics are ['euclidean', 'l2', 'l1', 'manhattan', 'cityblock', 'braycurtis', 'canberra', 'chebyshev', 'correlation', 'cosine', 'dice', 'hamming', 'jaccard', 'kulsinski', 'mahalanobis', 'matching', 'minkowski', 'rogerstanimoto', 'russellrao', 'seuclidean', 'sokalmichener', 'sokalsneath', 'sqeuclidean', 'yule', 'wminkowski', 'haversine'], or 'precomputed', or a callable",
     "output_type": "error",
     "traceback": [
      "\u001b[1;31m---------------------------------------------------------------------------\u001b[0m",
      "\u001b[1;31mValueError\u001b[0m                                Traceback (most recent call last)",
      "\u001b[1;32m<ipython-input-7-5cab0452b819>\u001b[0m in \u001b[0;36m<module>\u001b[1;34m\u001b[0m\n\u001b[0;32m      1\u001b[0m \u001b[1;31m#calculating for similarites using cosine similarity\u001b[0m\u001b[1;33m\u001b[0m\u001b[1;33m\u001b[0m\u001b[1;33m\u001b[0m\u001b[0m\n\u001b[0;32m      2\u001b[0m \u001b[1;32mfrom\u001b[0m \u001b[0msklearn\u001b[0m\u001b[1;33m.\u001b[0m\u001b[0mmetrics\u001b[0m\u001b[1;33m.\u001b[0m\u001b[0mpairwise\u001b[0m \u001b[1;32mimport\u001b[0m \u001b[0mpairwise_distances\u001b[0m\u001b[1;33m\u001b[0m\u001b[1;33m\u001b[0m\u001b[0m\n\u001b[1;32m----> 3\u001b[1;33m \u001b[0muser_similarity\u001b[0m \u001b[1;33m=\u001b[0m \u001b[0mpairwise_distances\u001b[0m\u001b[1;33m(\u001b[0m\u001b[0mdata_matrix\u001b[0m\u001b[1;33m,\u001b[0m \u001b[0mmetric\u001b[0m\u001b[1;33m=\u001b[0m\u001b[1;34m'cosnine'\u001b[0m\u001b[1;33m)\u001b[0m\u001b[1;33m\u001b[0m\u001b[1;33m\u001b[0m\u001b[0m\n\u001b[0m\u001b[0;32m      4\u001b[0m \u001b[0mpost_similarity\u001b[0m \u001b[1;33m=\u001b[0m \u001b[0mpairwise_distances\u001b[0m\u001b[1;33m(\u001b[0m\u001b[0mdata_matrix\u001b[0m\u001b[1;33m.\u001b[0m\u001b[0mT\u001b[0m\u001b[1;33m,\u001b[0m \u001b[0mmetric\u001b[0m\u001b[1;33m=\u001b[0m\u001b[1;34m'cosine'\u001b[0m\u001b[1;33m)\u001b[0m\u001b[1;33m\u001b[0m\u001b[1;33m\u001b[0m\u001b[0m\n\u001b[0;32m      5\u001b[0m \u001b[1;31m#the above code gives the post similiarities and user similiarites in an array\u001b[0m\u001b[1;33m\u001b[0m\u001b[1;33m\u001b[0m\u001b[1;33m\u001b[0m\u001b[0m\n",
      "\u001b[1;32mC:\\a\\lib\\site-packages\\sklearn\\metrics\\pairwise.py\u001b[0m in \u001b[0;36mpairwise_distances\u001b[1;34m(X, Y, metric, n_jobs, **kwds)\u001b[0m\n\u001b[0;32m   1550\u001b[0m         raise ValueError(\"Unknown metric %s. \"\n\u001b[0;32m   1551\u001b[0m                          \u001b[1;34m\"Valid metrics are %s, or 'precomputed', or a \"\u001b[0m\u001b[1;33m\u001b[0m\u001b[1;33m\u001b[0m\u001b[0m\n\u001b[1;32m-> 1552\u001b[1;33m                          \"callable\" % (metric, _VALID_METRICS))\n\u001b[0m\u001b[0;32m   1553\u001b[0m \u001b[1;33m\u001b[0m\u001b[0m\n\u001b[0;32m   1554\u001b[0m     \u001b[1;32mif\u001b[0m \u001b[0mmetric\u001b[0m \u001b[1;33m==\u001b[0m \u001b[1;34m\"precomputed\"\u001b[0m\u001b[1;33m:\u001b[0m\u001b[1;33m\u001b[0m\u001b[1;33m\u001b[0m\u001b[0m\n",
      "\u001b[1;31mValueError\u001b[0m: Unknown metric cosnine. Valid metrics are ['euclidean', 'l2', 'l1', 'manhattan', 'cityblock', 'braycurtis', 'canberra', 'chebyshev', 'correlation', 'cosine', 'dice', 'hamming', 'jaccard', 'kulsinski', 'mahalanobis', 'matching', 'minkowski', 'rogerstanimoto', 'russellrao', 'seuclidean', 'sokalmichener', 'sokalsneath', 'sqeuclidean', 'yule', 'wminkowski', 'haversine'], or 'precomputed', or a callable"
     ]
    }
   ],
   "source": [
    "#calculating for similarites using cosine similarity\n",
    "from sklearn.metrics.pairwise import pairwise_distances\n",
    "user_similarity = pairwise_distances(data_matrix, metric='cosnine')\n",
    "post_similarity = pairwise_distances(data_matrix.T, metric='cosine')\n",
    "#the above code gives the post similiarities and user similiarites in an array"
   ]
  },
  {
   "cell_type": "code",
   "execution_count": null,
   "metadata": {},
   "outputs": [],
   "source": [
    "#making predictions based on this;we define a funtion\n",
    "def predict(rating, similarity, type='user'):\n",
    "    if type == 'user':\n",
    "        mean_user_rating = ratings.mean(axis=1)\n",
    "        \n",
    "        ratings_diff = (ratings - mean_user_rating[:, np.newaxis])\n",
    "        pred = mean_user_rating[:, np.newaxis]+ similarity.dot(ratings_diff) / np.array([np.abs(similarity).sum(axis=1)])\n",
    "    elif type == 'post':\n",
    "        pred = ratings.dot(similarity) / np.array([np.abs(similarity).sum(axis=1)])\n",
    "    return pred"
   ]
  },
  {
   "cell_type": "code",
   "execution_count": null,
   "metadata": {},
   "outputs": [],
   "source": [
    "#making predictions\n",
    "user_predictions = predict(data_matrix, user_similarity, type='user')\n",
    "post_prediction = predict(data_matrix, post_similarity, type = 'item')"
   ]
  }
 ],
 "metadata": {
  "kernelspec": {
   "display_name": "Python 3",
   "language": "python",
   "name": "python3"
  },
  "language_info": {
   "codemirror_mode": {
    "name": "ipython",
    "version": 3
   },
   "file_extension": ".py",
   "mimetype": "text/x-python",
   "name": "python",
   "nbconvert_exporter": "python",
   "pygments_lexer": "ipython3",
   "version": "3.7.3"
  }
 },
 "nbformat": 4,
 "nbformat_minor": 2
}
