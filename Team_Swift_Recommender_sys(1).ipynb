{
  "nbformat": 4,
  "nbformat_minor": 0,
  "metadata": {
    "colab": {
      "name": "Team_Swift_Recommender_sys",
      "provenance": [],
      "collapsed_sections": []
    },
    "kernelspec": {
      "name": "python3",
      "display_name": "Python 3"
    }
  },
  "cells": [
    {
      "cell_type": "markdown",
      "metadata": {
        "id": "_9H9SzaWAH9t",
        "colab_type": "text"
      },
      "source": [
        "**Team_Swift** *Recommender System for Lucid.blog*\n",
        "\n",
        "\n",
        "---\n",
        "\n",
        "\n",
        "\n"
      ]
    },
    {
      "cell_type": "markdown",
      "metadata": {
        "id": "b1LKnxoDyGct",
        "colab_type": "text"
      },
      "source": [
        "**DATA IMPORTATION**"
      ]
    },
    {
      "cell_type": "markdown",
      "metadata": {
        "id": "HUQq29e7E6k4",
        "colab_type": "text"
      },
      "source": [
        "\n",
        "\n",
        "*   importing data from google drive to colab\n",
        "\n",
        "\n",
        "\n"
      ]
    },
    {
      "cell_type": "code",
      "metadata": {
        "id": "h8CQ-m-k6Sbd",
        "colab_type": "code",
        "outputId": "10ec50f5-72e3-40d6-97e8-9c50ca2509b0",
        "colab": {
          "base_uri": "https://localhost:8080/",
          "height": 35
        }
      },
      "source": [
        "from google.colab import drive\n",
        "drive.mount('/content/drive')"
      ],
      "execution_count": 46,
      "outputs": [
        {
          "output_type": "stream",
          "text": [
            "Drive already mounted at /content/drive; to attempt to forcibly remount, call drive.mount(\"/content/drive\", force_remount=True).\n"
          ],
          "name": "stdout"
        }
      ]
    },
    {
      "cell_type": "markdown",
      "metadata": {
        "id": "I36bwCPDNF-2",
        "colab_type": "text"
      },
      "source": [
        "**DATA_PREPARATION**"
      ]
    },
    {
      "cell_type": "markdown",
      "metadata": {
        "id": "vvzOnz5JFWtX",
        "colab_type": "text"
      },
      "source": [
        "\n",
        "\n",
        "*   importing libaries\n",
        "\n"
      ]
    },
    {
      "cell_type": "code",
      "metadata": {
        "id": "kHLeRrJriVTz",
        "colab_type": "code",
        "colab": {}
      },
      "source": [
        "#importing needed modules\n",
        "import pandas as pd\n",
        "import numpy as np"
      ],
      "execution_count": 0,
      "outputs": []
    },
    {
      "cell_type": "markdown",
      "metadata": {
        "id": "4W2bxjkufRb-",
        "colab_type": "text"
      },
      "source": [
        "**EXPLORATION OF DATA ANALYSIS**"
      ]
    },
    {
      "cell_type": "code",
      "metadata": {
        "id": "-G_igQk3f9Vr",
        "colab_type": "code",
        "outputId": "94d3d1d1-ec2e-4d5c-a9a4-71c3cf1999f8",
        "colab": {
          "base_uri": "https://localhost:8080/",
          "height": 300
        }
      },
      "source": [
        "#Exploring the contact_settings table\n",
        "contact_settings = pd.read_csv('/content/drive/My Drive/lucid/contact_settings.csv')\n",
        "contact_settings.describe()"
      ],
      "execution_count": 48,
      "outputs": [
        {
          "output_type": "execute_result",
          "data": {
            "text/html": [
              "<div>\n",
              "<style scoped>\n",
              "    .dataframe tbody tr th:only-of-type {\n",
              "        vertical-align: middle;\n",
              "    }\n",
              "\n",
              "    .dataframe tbody tr th {\n",
              "        vertical-align: top;\n",
              "    }\n",
              "\n",
              "    .dataframe thead th {\n",
              "        text-align: right;\n",
              "    }\n",
              "</style>\n",
              "<table border=\"1\" class=\"dataframe\">\n",
              "  <thead>\n",
              "    <tr style=\"text-align: right;\">\n",
              "      <th></th>\n",
              "      <th>id</th>\n",
              "      <th>user_id</th>\n",
              "      <th>created_at</th>\n",
              "      <th>updated_at</th>\n",
              "    </tr>\n",
              "  </thead>\n",
              "  <tbody>\n",
              "    <tr>\n",
              "      <th>count</th>\n",
              "      <td>249.000000</td>\n",
              "      <td>249.000000</td>\n",
              "      <td>0.0</td>\n",
              "      <td>0.0</td>\n",
              "    </tr>\n",
              "    <tr>\n",
              "      <th>mean</th>\n",
              "      <td>125.000000</td>\n",
              "      <td>846.518072</td>\n",
              "      <td>NaN</td>\n",
              "      <td>NaN</td>\n",
              "    </tr>\n",
              "    <tr>\n",
              "      <th>std</th>\n",
              "      <td>72.024301</td>\n",
              "      <td>571.215252</td>\n",
              "      <td>NaN</td>\n",
              "      <td>NaN</td>\n",
              "    </tr>\n",
              "    <tr>\n",
              "      <th>min</th>\n",
              "      <td>1.000000</td>\n",
              "      <td>19.000000</td>\n",
              "      <td>NaN</td>\n",
              "      <td>NaN</td>\n",
              "    </tr>\n",
              "    <tr>\n",
              "      <th>25%</th>\n",
              "      <td>63.000000</td>\n",
              "      <td>365.000000</td>\n",
              "      <td>NaN</td>\n",
              "      <td>NaN</td>\n",
              "    </tr>\n",
              "    <tr>\n",
              "      <th>50%</th>\n",
              "      <td>125.000000</td>\n",
              "      <td>726.000000</td>\n",
              "      <td>NaN</td>\n",
              "      <td>NaN</td>\n",
              "    </tr>\n",
              "    <tr>\n",
              "      <th>75%</th>\n",
              "      <td>187.000000</td>\n",
              "      <td>1308.000000</td>\n",
              "      <td>NaN</td>\n",
              "      <td>NaN</td>\n",
              "    </tr>\n",
              "    <tr>\n",
              "      <th>max</th>\n",
              "      <td>249.000000</td>\n",
              "      <td>2263.000000</td>\n",
              "      <td>NaN</td>\n",
              "      <td>NaN</td>\n",
              "    </tr>\n",
              "  </tbody>\n",
              "</table>\n",
              "</div>"
            ],
            "text/plain": [
              "               id      user_id  created_at  updated_at\n",
              "count  249.000000   249.000000         0.0         0.0\n",
              "mean   125.000000   846.518072         NaN         NaN\n",
              "std     72.024301   571.215252         NaN         NaN\n",
              "min      1.000000    19.000000         NaN         NaN\n",
              "25%     63.000000   365.000000         NaN         NaN\n",
              "50%    125.000000   726.000000         NaN         NaN\n",
              "75%    187.000000  1308.000000         NaN         NaN\n",
              "max    249.000000  2263.000000         NaN         NaN"
            ]
          },
          "metadata": {
            "tags": []
          },
          "execution_count": 48
        }
      ]
    },
    {
      "cell_type": "code",
      "metadata": {
        "id": "t3aT5N6xg-u6",
        "colab_type": "code",
        "outputId": "5449d445-4495-49ce-9b38-478f67a29d7f",
        "colab": {
          "base_uri": "https://localhost:8080/",
          "height": 300
        }
      },
      "source": [
        "#Exploring the extfeeds table\n",
        "extfeeds = pd.read_csv('/content/drive/My Drive/lucid/extfeeds.csv')\n",
        "extfeeds.describe()"
      ],
      "execution_count": 49,
      "outputs": [
        {
          "output_type": "execute_result",
          "data": {
            "text/html": [
              "<div>\n",
              "<style scoped>\n",
              "    .dataframe tbody tr th:only-of-type {\n",
              "        vertical-align: middle;\n",
              "    }\n",
              "\n",
              "    .dataframe tbody tr th {\n",
              "        vertical-align: top;\n",
              "    }\n",
              "\n",
              "    .dataframe thead th {\n",
              "        text-align: right;\n",
              "    }\n",
              "</style>\n",
              "<table border=\"1\" class=\"dataframe\">\n",
              "  <thead>\n",
              "    <tr style=\"text-align: right;\">\n",
              "      <th></th>\n",
              "      <th>id</th>\n",
              "      <th>user_id</th>\n",
              "      <th>created_at</th>\n",
              "      <th>updated_at</th>\n",
              "      <th>tags</th>\n",
              "    </tr>\n",
              "  </thead>\n",
              "  <tbody>\n",
              "    <tr>\n",
              "      <th>count</th>\n",
              "      <td>45.000000</td>\n",
              "      <td>45.000000</td>\n",
              "      <td>0.0</td>\n",
              "      <td>0.0</td>\n",
              "      <td>0.0</td>\n",
              "    </tr>\n",
              "    <tr>\n",
              "      <th>mean</th>\n",
              "      <td>2861.000000</td>\n",
              "      <td>6.044444</td>\n",
              "      <td>NaN</td>\n",
              "      <td>NaN</td>\n",
              "      <td>NaN</td>\n",
              "    </tr>\n",
              "    <tr>\n",
              "      <th>std</th>\n",
              "      <td>13.133926</td>\n",
              "      <td>7.728211</td>\n",
              "      <td>NaN</td>\n",
              "      <td>NaN</td>\n",
              "      <td>NaN</td>\n",
              "    </tr>\n",
              "    <tr>\n",
              "      <th>min</th>\n",
              "      <td>2839.000000</td>\n",
              "      <td>2.000000</td>\n",
              "      <td>NaN</td>\n",
              "      <td>NaN</td>\n",
              "      <td>NaN</td>\n",
              "    </tr>\n",
              "    <tr>\n",
              "      <th>25%</th>\n",
              "      <td>2850.000000</td>\n",
              "      <td>2.000000</td>\n",
              "      <td>NaN</td>\n",
              "      <td>NaN</td>\n",
              "      <td>NaN</td>\n",
              "    </tr>\n",
              "    <tr>\n",
              "      <th>50%</th>\n",
              "      <td>2861.000000</td>\n",
              "      <td>3.000000</td>\n",
              "      <td>NaN</td>\n",
              "      <td>NaN</td>\n",
              "      <td>NaN</td>\n",
              "    </tr>\n",
              "    <tr>\n",
              "      <th>75%</th>\n",
              "      <td>2872.000000</td>\n",
              "      <td>7.000000</td>\n",
              "      <td>NaN</td>\n",
              "      <td>NaN</td>\n",
              "      <td>NaN</td>\n",
              "    </tr>\n",
              "    <tr>\n",
              "      <th>max</th>\n",
              "      <td>2883.000000</td>\n",
              "      <td>45.000000</td>\n",
              "      <td>NaN</td>\n",
              "      <td>NaN</td>\n",
              "      <td>NaN</td>\n",
              "    </tr>\n",
              "  </tbody>\n",
              "</table>\n",
              "</div>"
            ],
            "text/plain": [
              "                id    user_id  created_at  updated_at  tags\n",
              "count    45.000000  45.000000         0.0         0.0   0.0\n",
              "mean   2861.000000   6.044444         NaN         NaN   NaN\n",
              "std      13.133926   7.728211         NaN         NaN   NaN\n",
              "min    2839.000000   2.000000         NaN         NaN   NaN\n",
              "25%    2850.000000   2.000000         NaN         NaN   NaN\n",
              "50%    2861.000000   3.000000         NaN         NaN   NaN\n",
              "75%    2872.000000   7.000000         NaN         NaN   NaN\n",
              "max    2883.000000  45.000000         NaN         NaN   NaN"
            ]
          },
          "metadata": {
            "tags": []
          },
          "execution_count": 49
        }
      ]
    },
    {
      "cell_type": "code",
      "metadata": {
        "id": "XSIWvW15h-Iz",
        "colab_type": "code",
        "outputId": "0cec37bc-6843-4485-ba90-adf06fde60c3",
        "colab": {
          "base_uri": "https://localhost:8080/",
          "height": 300
        }
      },
      "source": [
        "#Exploring the following table\n",
        "following = pd.read_csv('/content/drive/My Drive/lucid/following.csv')\n",
        "following.describe()"
      ],
      "execution_count": 50,
      "outputs": [
        {
          "output_type": "execute_result",
          "data": {
            "text/html": [
              "<div>\n",
              "<style scoped>\n",
              "    .dataframe tbody tr th:only-of-type {\n",
              "        vertical-align: middle;\n",
              "    }\n",
              "\n",
              "    .dataframe tbody tr th {\n",
              "        vertical-align: top;\n",
              "    }\n",
              "\n",
              "    .dataframe thead th {\n",
              "        text-align: right;\n",
              "    }\n",
              "</style>\n",
              "<table border=\"1\" class=\"dataframe\">\n",
              "  <thead>\n",
              "    <tr style=\"text-align: right;\">\n",
              "      <th></th>\n",
              "      <th>my_id</th>\n",
              "      <th>follower_id</th>\n",
              "      <th>status</th>\n",
              "    </tr>\n",
              "  </thead>\n",
              "  <tbody>\n",
              "    <tr>\n",
              "      <th>count</th>\n",
              "      <td>5296.000000</td>\n",
              "      <td>5296.000000</td>\n",
              "      <td>5296.000000</td>\n",
              "    </tr>\n",
              "    <tr>\n",
              "      <th>mean</th>\n",
              "      <td>793.865370</td>\n",
              "      <td>695.724887</td>\n",
              "      <td>0.976020</td>\n",
              "    </tr>\n",
              "    <tr>\n",
              "      <th>std</th>\n",
              "      <td>518.974621</td>\n",
              "      <td>520.907520</td>\n",
              "      <td>0.153002</td>\n",
              "    </tr>\n",
              "    <tr>\n",
              "      <th>min</th>\n",
              "      <td>1.000000</td>\n",
              "      <td>1.000000</td>\n",
              "      <td>0.000000</td>\n",
              "    </tr>\n",
              "    <tr>\n",
              "      <th>25%</th>\n",
              "      <td>353.000000</td>\n",
              "      <td>218.000000</td>\n",
              "      <td>1.000000</td>\n",
              "    </tr>\n",
              "    <tr>\n",
              "      <th>50%</th>\n",
              "      <td>722.000000</td>\n",
              "      <td>642.000000</td>\n",
              "      <td>1.000000</td>\n",
              "    </tr>\n",
              "    <tr>\n",
              "      <th>75%</th>\n",
              "      <td>1161.000000</td>\n",
              "      <td>1075.000000</td>\n",
              "      <td>1.000000</td>\n",
              "    </tr>\n",
              "    <tr>\n",
              "      <th>max</th>\n",
              "      <td>2287.000000</td>\n",
              "      <td>2218.000000</td>\n",
              "      <td>1.000000</td>\n",
              "    </tr>\n",
              "  </tbody>\n",
              "</table>\n",
              "</div>"
            ],
            "text/plain": [
              "             my_id  follower_id       status\n",
              "count  5296.000000  5296.000000  5296.000000\n",
              "mean    793.865370   695.724887     0.976020\n",
              "std     518.974621   520.907520     0.153002\n",
              "min       1.000000     1.000000     0.000000\n",
              "25%     353.000000   218.000000     1.000000\n",
              "50%     722.000000   642.000000     1.000000\n",
              "75%    1161.000000  1075.000000     1.000000\n",
              "max    2287.000000  2218.000000     1.000000"
            ]
          },
          "metadata": {
            "tags": []
          },
          "execution_count": 50
        }
      ]
    },
    {
      "cell_type": "code",
      "metadata": {
        "id": "AtvsX_ZziWXA",
        "colab_type": "code",
        "outputId": "94e79bbe-84ed-4cfa-d7f2-977e88121098",
        "colab": {
          "base_uri": "https://localhost:8080/",
          "height": 300
        }
      },
      "source": [
        "#Exploring the notifications table\n",
        "notifications = pd.read_csv('/content/drive/My Drive/lucid/notifications.csv')\n",
        "notifications.describe()"
      ],
      "execution_count": 51,
      "outputs": [
        {
          "output_type": "execute_result",
          "data": {
            "text/html": [
              "<div>\n",
              "<style scoped>\n",
              "    .dataframe tbody tr th:only-of-type {\n",
              "        vertical-align: middle;\n",
              "    }\n",
              "\n",
              "    .dataframe tbody tr th {\n",
              "        vertical-align: top;\n",
              "    }\n",
              "\n",
              "    .dataframe thead th {\n",
              "        text-align: right;\n",
              "    }\n",
              "</style>\n",
              "<table border=\"1\" class=\"dataframe\">\n",
              "  <thead>\n",
              "    <tr style=\"text-align: right;\">\n",
              "      <th></th>\n",
              "      <th>id</th>\n",
              "      <th>post_id</th>\n",
              "      <th>parent_comment_id</th>\n",
              "      <th>sender_id</th>\n",
              "      <th>user_id</th>\n",
              "      <th>status</th>\n",
              "    </tr>\n",
              "  </thead>\n",
              "  <tbody>\n",
              "    <tr>\n",
              "      <th>count</th>\n",
              "      <td>190.000000</td>\n",
              "      <td>60.000000</td>\n",
              "      <td>6.000000</td>\n",
              "      <td>190.000000</td>\n",
              "      <td>190.000000</td>\n",
              "      <td>190.000000</td>\n",
              "    </tr>\n",
              "    <tr>\n",
              "      <th>mean</th>\n",
              "      <td>99.368421</td>\n",
              "      <td>804.616667</td>\n",
              "      <td>151.000000</td>\n",
              "      <td>855.384211</td>\n",
              "      <td>91.600000</td>\n",
              "      <td>0.336842</td>\n",
              "    </tr>\n",
              "    <tr>\n",
              "      <th>std</th>\n",
              "      <td>57.993259</td>\n",
              "      <td>295.624194</td>\n",
              "      <td>71.260087</td>\n",
              "      <td>861.404872</td>\n",
              "      <td>345.721832</td>\n",
              "      <td>0.473879</td>\n",
              "    </tr>\n",
              "    <tr>\n",
              "      <th>min</th>\n",
              "      <td>1.000000</td>\n",
              "      <td>143.000000</td>\n",
              "      <td>8.000000</td>\n",
              "      <td>1.000000</td>\n",
              "      <td>1.000000</td>\n",
              "      <td>0.000000</td>\n",
              "    </tr>\n",
              "    <tr>\n",
              "      <th>25%</th>\n",
              "      <td>50.250000</td>\n",
              "      <td>423.000000</td>\n",
              "      <td>161.000000</td>\n",
              "      <td>4.500000</td>\n",
              "      <td>4.000000</td>\n",
              "      <td>0.000000</td>\n",
              "    </tr>\n",
              "    <tr>\n",
              "      <th>50%</th>\n",
              "      <td>97.500000</td>\n",
              "      <td>992.000000</td>\n",
              "      <td>184.000000</td>\n",
              "      <td>615.500000</td>\n",
              "      <td>6.000000</td>\n",
              "      <td>0.000000</td>\n",
              "    </tr>\n",
              "    <tr>\n",
              "      <th>75%</th>\n",
              "      <td>144.750000</td>\n",
              "      <td>998.000000</td>\n",
              "      <td>186.000000</td>\n",
              "      <td>1804.000000</td>\n",
              "      <td>6.000000</td>\n",
              "      <td>1.000000</td>\n",
              "    </tr>\n",
              "    <tr>\n",
              "      <th>max</th>\n",
              "      <td>222.000000</td>\n",
              "      <td>1007.000000</td>\n",
              "      <td>190.000000</td>\n",
              "      <td>2287.000000</td>\n",
              "      <td>2218.000000</td>\n",
              "      <td>1.000000</td>\n",
              "    </tr>\n",
              "  </tbody>\n",
              "</table>\n",
              "</div>"
            ],
            "text/plain": [
              "               id      post_id  ...      user_id      status\n",
              "count  190.000000    60.000000  ...   190.000000  190.000000\n",
              "mean    99.368421   804.616667  ...    91.600000    0.336842\n",
              "std     57.993259   295.624194  ...   345.721832    0.473879\n",
              "min      1.000000   143.000000  ...     1.000000    0.000000\n",
              "25%     50.250000   423.000000  ...     4.000000    0.000000\n",
              "50%     97.500000   992.000000  ...     6.000000    0.000000\n",
              "75%    144.750000   998.000000  ...     6.000000    1.000000\n",
              "max    222.000000  1007.000000  ...  2218.000000    1.000000\n",
              "\n",
              "[8 rows x 6 columns]"
            ]
          },
          "metadata": {
            "tags": []
          },
          "execution_count": 51
        }
      ]
    },
    {
      "cell_type": "code",
      "metadata": {
        "id": "A_o0RqJeiizD",
        "colab_type": "code",
        "outputId": "cf2ac7a8-3f7e-404a-a47c-c16fd5d7902a",
        "colab": {
          "base_uri": "https://localhost:8080/",
          "height": 300
        }
      },
      "source": [
        "#Exploring the posts table\n",
        "posts = pd.read_csv('/content/drive/My Drive/lucid/posts.csv')\n",
        "posts.describe()"
      ],
      "execution_count": 52,
      "outputs": [
        {
          "output_type": "execute_result",
          "data": {
            "text/html": [
              "<div>\n",
              "<style scoped>\n",
              "    .dataframe tbody tr th:only-of-type {\n",
              "        vertical-align: middle;\n",
              "    }\n",
              "\n",
              "    .dataframe tbody tr th {\n",
              "        vertical-align: top;\n",
              "    }\n",
              "\n",
              "    .dataframe thead th {\n",
              "        text-align: right;\n",
              "    }\n",
              "</style>\n",
              "<table border=\"1\" class=\"dataframe\">\n",
              "  <thead>\n",
              "    <tr style=\"text-align: right;\">\n",
              "      <th></th>\n",
              "      <th>id</th>\n",
              "      <th>user_id</th>\n",
              "      <th>status_id</th>\n",
              "      <th>post_id</th>\n",
              "    </tr>\n",
              "  </thead>\n",
              "  <tbody>\n",
              "    <tr>\n",
              "      <th>count</th>\n",
              "      <td>876.000000</td>\n",
              "      <td>876.000000</td>\n",
              "      <td>0.0</td>\n",
              "      <td>0.0</td>\n",
              "    </tr>\n",
              "    <tr>\n",
              "      <th>mean</th>\n",
              "      <td>516.808219</td>\n",
              "      <td>1061.639269</td>\n",
              "      <td>NaN</td>\n",
              "      <td>NaN</td>\n",
              "    </tr>\n",
              "    <tr>\n",
              "      <th>std</th>\n",
              "      <td>278.648058</td>\n",
              "      <td>788.070779</td>\n",
              "      <td>NaN</td>\n",
              "      <td>NaN</td>\n",
              "    </tr>\n",
              "    <tr>\n",
              "      <th>min</th>\n",
              "      <td>1.000000</td>\n",
              "      <td>1.000000</td>\n",
              "      <td>NaN</td>\n",
              "      <td>NaN</td>\n",
              "    </tr>\n",
              "    <tr>\n",
              "      <th>25%</th>\n",
              "      <td>278.750000</td>\n",
              "      <td>338.000000</td>\n",
              "      <td>NaN</td>\n",
              "      <td>NaN</td>\n",
              "    </tr>\n",
              "    <tr>\n",
              "      <th>50%</th>\n",
              "      <td>523.500000</td>\n",
              "      <td>944.000000</td>\n",
              "      <td>NaN</td>\n",
              "      <td>NaN</td>\n",
              "    </tr>\n",
              "    <tr>\n",
              "      <th>75%</th>\n",
              "      <td>754.250000</td>\n",
              "      <td>1836.250000</td>\n",
              "      <td>NaN</td>\n",
              "      <td>NaN</td>\n",
              "    </tr>\n",
              "    <tr>\n",
              "      <th>max</th>\n",
              "      <td>1007.000000</td>\n",
              "      <td>2297.000000</td>\n",
              "      <td>NaN</td>\n",
              "      <td>NaN</td>\n",
              "    </tr>\n",
              "  </tbody>\n",
              "</table>\n",
              "</div>"
            ],
            "text/plain": [
              "                id      user_id  status_id  post_id\n",
              "count   876.000000   876.000000        0.0      0.0\n",
              "mean    516.808219  1061.639269        NaN      NaN\n",
              "std     278.648058   788.070779        NaN      NaN\n",
              "min       1.000000     1.000000        NaN      NaN\n",
              "25%     278.750000   338.000000        NaN      NaN\n",
              "50%     523.500000   944.000000        NaN      NaN\n",
              "75%     754.250000  1836.250000        NaN      NaN\n",
              "max    1007.000000  2297.000000        NaN      NaN"
            ]
          },
          "metadata": {
            "tags": []
          },
          "execution_count": 52
        }
      ]
    },
    {
      "cell_type": "code",
      "metadata": {
        "id": "crpkdmF2ixdr",
        "colab_type": "code",
        "outputId": "7562bc64-7f5e-4280-ebb6-c4eddbbd0c41",
        "colab": {
          "base_uri": "https://localhost:8080/",
          "height": 300
        }
      },
      "source": [
        "#Exploring the users table\n",
        "users = pd.read_csv('/content/drive/My Drive/lucid/users.csv')\n",
        "users.describe()"
      ],
      "execution_count": 53,
      "outputs": [
        {
          "output_type": "execute_result",
          "data": {
            "text/html": [
              "<div>\n",
              "<style scoped>\n",
              "    .dataframe tbody tr th:only-of-type {\n",
              "        vertical-align: middle;\n",
              "    }\n",
              "\n",
              "    .dataframe tbody tr th {\n",
              "        vertical-align: top;\n",
              "    }\n",
              "\n",
              "    .dataframe thead th {\n",
              "        text-align: right;\n",
              "    }\n",
              "</style>\n",
              "<table border=\"1\" class=\"dataframe\">\n",
              "  <thead>\n",
              "    <tr style=\"text-align: right;\">\n",
              "      <th></th>\n",
              "      <th>id</th>\n",
              "      <th>password</th>\n",
              "    </tr>\n",
              "  </thead>\n",
              "  <tbody>\n",
              "    <tr>\n",
              "      <th>count</th>\n",
              "      <td>2293.000000</td>\n",
              "      <td>0.0</td>\n",
              "    </tr>\n",
              "    <tr>\n",
              "      <th>mean</th>\n",
              "      <td>1147.753598</td>\n",
              "      <td>NaN</td>\n",
              "    </tr>\n",
              "    <tr>\n",
              "      <th>std</th>\n",
              "      <td>663.105813</td>\n",
              "      <td>NaN</td>\n",
              "    </tr>\n",
              "    <tr>\n",
              "      <th>min</th>\n",
              "      <td>1.000000</td>\n",
              "      <td>NaN</td>\n",
              "    </tr>\n",
              "    <tr>\n",
              "      <th>25%</th>\n",
              "      <td>574.000000</td>\n",
              "      <td>NaN</td>\n",
              "    </tr>\n",
              "    <tr>\n",
              "      <th>50%</th>\n",
              "      <td>1147.000000</td>\n",
              "      <td>NaN</td>\n",
              "    </tr>\n",
              "    <tr>\n",
              "      <th>75%</th>\n",
              "      <td>1720.000000</td>\n",
              "      <td>NaN</td>\n",
              "    </tr>\n",
              "    <tr>\n",
              "      <th>max</th>\n",
              "      <td>2297.000000</td>\n",
              "      <td>NaN</td>\n",
              "    </tr>\n",
              "  </tbody>\n",
              "</table>\n",
              "</div>"
            ],
            "text/plain": [
              "                id  password\n",
              "count  2293.000000       0.0\n",
              "mean   1147.753598       NaN\n",
              "std     663.105813       NaN\n",
              "min       1.000000       NaN\n",
              "25%     574.000000       NaN\n",
              "50%    1147.000000       NaN\n",
              "75%    1720.000000       NaN\n",
              "max    2297.000000       NaN"
            ]
          },
          "metadata": {
            "tags": []
          },
          "execution_count": 53
        }
      ]
    },
    {
      "cell_type": "code",
      "metadata": {
        "id": "HUQx1LbajGjt",
        "colab_type": "code",
        "outputId": "efe68102-f1ed-49c8-beb6-00d9ef891c0c",
        "colab": {
          "base_uri": "https://localhost:8080/",
          "height": 300
        }
      },
      "source": [
        "#Exploring the user_settings table\n",
        "user_settings = pd.read_csv('/content/drive/My Drive/lucid/user_settings.csv')\n",
        "user_settings.describe()"
      ],
      "execution_count": 54,
      "outputs": [
        {
          "output_type": "execute_result",
          "data": {
            "text/html": [
              "<div>\n",
              "<style scoped>\n",
              "    .dataframe tbody tr th:only-of-type {\n",
              "        vertical-align: middle;\n",
              "    }\n",
              "\n",
              "    .dataframe tbody tr th {\n",
              "        vertical-align: top;\n",
              "    }\n",
              "\n",
              "    .dataframe thead th {\n",
              "        text-align: right;\n",
              "    }\n",
              "</style>\n",
              "<table border=\"1\" class=\"dataframe\">\n",
              "  <thead>\n",
              "    <tr style=\"text-align: right;\">\n",
              "      <th></th>\n",
              "      <th>id</th>\n",
              "      <th>user_id</th>\n",
              "      <th>setting_path</th>\n",
              "      <th>tabs</th>\n",
              "    </tr>\n",
              "  </thead>\n",
              "  <tbody>\n",
              "    <tr>\n",
              "      <th>count</th>\n",
              "      <td>2.000000</td>\n",
              "      <td>2.000000</td>\n",
              "      <td>0.0</td>\n",
              "      <td>0.0</td>\n",
              "    </tr>\n",
              "    <tr>\n",
              "      <th>mean</th>\n",
              "      <td>1.500000</td>\n",
              "      <td>3.000000</td>\n",
              "      <td>NaN</td>\n",
              "      <td>NaN</td>\n",
              "    </tr>\n",
              "    <tr>\n",
              "      <th>std</th>\n",
              "      <td>0.707107</td>\n",
              "      <td>1.414214</td>\n",
              "      <td>NaN</td>\n",
              "      <td>NaN</td>\n",
              "    </tr>\n",
              "    <tr>\n",
              "      <th>min</th>\n",
              "      <td>1.000000</td>\n",
              "      <td>2.000000</td>\n",
              "      <td>NaN</td>\n",
              "      <td>NaN</td>\n",
              "    </tr>\n",
              "    <tr>\n",
              "      <th>25%</th>\n",
              "      <td>1.250000</td>\n",
              "      <td>2.500000</td>\n",
              "      <td>NaN</td>\n",
              "      <td>NaN</td>\n",
              "    </tr>\n",
              "    <tr>\n",
              "      <th>50%</th>\n",
              "      <td>1.500000</td>\n",
              "      <td>3.000000</td>\n",
              "      <td>NaN</td>\n",
              "      <td>NaN</td>\n",
              "    </tr>\n",
              "    <tr>\n",
              "      <th>75%</th>\n",
              "      <td>1.750000</td>\n",
              "      <td>3.500000</td>\n",
              "      <td>NaN</td>\n",
              "      <td>NaN</td>\n",
              "    </tr>\n",
              "    <tr>\n",
              "      <th>max</th>\n",
              "      <td>2.000000</td>\n",
              "      <td>4.000000</td>\n",
              "      <td>NaN</td>\n",
              "      <td>NaN</td>\n",
              "    </tr>\n",
              "  </tbody>\n",
              "</table>\n",
              "</div>"
            ],
            "text/plain": [
              "             id   user_id  setting_path  tabs\n",
              "count  2.000000  2.000000           0.0   0.0\n",
              "mean   1.500000  3.000000           NaN   NaN\n",
              "std    0.707107  1.414214           NaN   NaN\n",
              "min    1.000000  2.000000           NaN   NaN\n",
              "25%    1.250000  2.500000           NaN   NaN\n",
              "50%    1.500000  3.000000           NaN   NaN\n",
              "75%    1.750000  3.500000           NaN   NaN\n",
              "max    2.000000  4.000000           NaN   NaN"
            ]
          },
          "metadata": {
            "tags": []
          },
          "execution_count": 54
        }
      ]
    },
    {
      "cell_type": "code",
      "metadata": {
        "id": "2x6-rhYxlLbg",
        "colab_type": "code",
        "outputId": "7ced00b3-7bab-4e9e-ee0e-6e0fc9ed597d",
        "colab": {
          "base_uri": "https://localhost:8080/",
          "height": 300
        }
      },
      "source": [
        "#Exploring the thoughts table\n",
        "thoughts = pd.read_csv('/content/drive/My Drive/lucid/thoughts.csv')\n",
        "thoughts.describe()"
      ],
      "execution_count": 55,
      "outputs": [
        {
          "output_type": "execute_result",
          "data": {
            "text/html": [
              "<div>\n",
              "<style scoped>\n",
              "    .dataframe tbody tr th:only-of-type {\n",
              "        vertical-align: middle;\n",
              "    }\n",
              "\n",
              "    .dataframe tbody tr th {\n",
              "        vertical-align: top;\n",
              "    }\n",
              "\n",
              "    .dataframe thead th {\n",
              "        text-align: right;\n",
              "    }\n",
              "</style>\n",
              "<table border=\"1\" class=\"dataframe\">\n",
              "  <thead>\n",
              "    <tr style=\"text-align: right;\">\n",
              "      <th></th>\n",
              "      <th>id</th>\n",
              "      <th>user_id</th>\n",
              "    </tr>\n",
              "  </thead>\n",
              "  <tbody>\n",
              "    <tr>\n",
              "      <th>count</th>\n",
              "      <td>16.000000</td>\n",
              "      <td>16.000000</td>\n",
              "    </tr>\n",
              "    <tr>\n",
              "      <th>mean</th>\n",
              "      <td>8.500000</td>\n",
              "      <td>990.250000</td>\n",
              "    </tr>\n",
              "    <tr>\n",
              "      <th>std</th>\n",
              "      <td>4.760952</td>\n",
              "      <td>1137.363472</td>\n",
              "    </tr>\n",
              "    <tr>\n",
              "      <th>min</th>\n",
              "      <td>1.000000</td>\n",
              "      <td>1.000000</td>\n",
              "    </tr>\n",
              "    <tr>\n",
              "      <th>25%</th>\n",
              "      <td>4.750000</td>\n",
              "      <td>4.000000</td>\n",
              "    </tr>\n",
              "    <tr>\n",
              "      <th>50%</th>\n",
              "      <td>8.500000</td>\n",
              "      <td>77.000000</td>\n",
              "    </tr>\n",
              "    <tr>\n",
              "      <th>75%</th>\n",
              "      <td>12.250000</td>\n",
              "      <td>2223.000000</td>\n",
              "    </tr>\n",
              "    <tr>\n",
              "      <th>max</th>\n",
              "      <td>16.000000</td>\n",
              "      <td>2278.000000</td>\n",
              "    </tr>\n",
              "  </tbody>\n",
              "</table>\n",
              "</div>"
            ],
            "text/plain": [
              "              id      user_id\n",
              "count  16.000000    16.000000\n",
              "mean    8.500000   990.250000\n",
              "std     4.760952  1137.363472\n",
              "min     1.000000     1.000000\n",
              "25%     4.750000     4.000000\n",
              "50%     8.500000    77.000000\n",
              "75%    12.250000  2223.000000\n",
              "max    16.000000  2278.000000"
            ]
          },
          "metadata": {
            "tags": []
          },
          "execution_count": 55
        }
      ]
    },
    {
      "cell_type": "code",
      "metadata": {
        "id": "Tmgz1w8rlbMh",
        "colab_type": "code",
        "outputId": "1ce49257-3ebe-4175-80f6-bc39077d45c1",
        "colab": {
          "base_uri": "https://localhost:8080/",
          "height": 35
        }
      },
      "source": [
        "#relevant keys in the thoughts dataframe\n",
        "thoughts.keys()"
      ],
      "execution_count": 0,
      "outputs": [
        {
          "output_type": "execute_result",
          "data": {
            "text/plain": [
              "Index(['id', 'user_id', 'content', 'created_at', 'updated_at'], dtype='object')"
            ]
          },
          "metadata": {
            "tags": []
          },
          "execution_count": 24
        }
      ]
    },
    {
      "cell_type": "code",
      "metadata": {
        "id": "sheh7Z1vkIbP",
        "colab_type": "code",
        "outputId": "8845e2da-f76f-4bae-89f7-c6bce63af935",
        "colab": {
          "base_uri": "https://localhost:8080/",
          "height": 72
        }
      },
      "source": [
        "#relevant keys in the users dataframe\n",
        "users.keys()"
      ],
      "execution_count": 56,
      "outputs": [
        {
          "output_type": "execute_result",
          "data": {
            "text/plain": [
              "Index(['id', 'name', 'username', 'email', 'image', 'provider', 'provider_id',\n",
              "       'password', 'remember_token', 'created_at', 'updated_at', 'short_bio'],\n",
              "      dtype='object')"
            ]
          },
          "metadata": {
            "tags": []
          },
          "execution_count": 56
        }
      ]
    },
    {
      "cell_type": "code",
      "metadata": {
        "id": "kcRDV39XkRxn",
        "colab_type": "code",
        "outputId": "62ee9f70-8334-42a9-973a-6aa4d85ff58f",
        "colab": {
          "base_uri": "https://localhost:8080/",
          "height": 72
        }
      },
      "source": [
        "#relevant keys in the posts dataframe\n",
        "posts.keys()"
      ],
      "execution_count": 57,
      "outputs": [
        {
          "output_type": "execute_result",
          "data": {
            "text/plain": [
              "Index(['id', 'user_id', 'title', 'content', 'tags', 'slug', 'created_at',\n",
              "       'updated_at', 'image', 'status_id', 'action', 'post_id'],\n",
              "      dtype='object')"
            ]
          },
          "metadata": {
            "tags": []
          },
          "execution_count": 57
        }
      ]
    },
    {
      "cell_type": "code",
      "metadata": {
        "id": "OE5zRzG3kgvy",
        "colab_type": "code",
        "outputId": "63ccda2f-60bb-41bd-9a2b-cc87c6318005",
        "colab": {
          "base_uri": "https://localhost:8080/",
          "height": 35
        }
      },
      "source": [
        "#relevant keys in the following dataframe\n",
        "following.keys()"
      ],
      "execution_count": 58,
      "outputs": [
        {
          "output_type": "execute_result",
          "data": {
            "text/plain": [
              "Index(['my_id', 'follower_id', 'status'], dtype='object')"
            ]
          },
          "metadata": {
            "tags": []
          },
          "execution_count": 58
        }
      ]
    },
    {
      "cell_type": "code",
      "metadata": {
        "id": "lqmlBkrqk06A",
        "colab_type": "code",
        "outputId": "74fdbd1c-57a5-42e4-cfed-d99ade1c23e4",
        "colab": {
          "base_uri": "https://localhost:8080/",
          "height": 72
        }
      },
      "source": [
        "#relevant keys in the notifications dataframe\n",
        "notifications.keys()"
      ],
      "execution_count": 59,
      "outputs": [
        {
          "output_type": "execute_result",
          "data": {
            "text/plain": [
              "Index(['id', 'post_id', 'parent_comment_id', 'comment', 'sender_id', 'user_id',\n",
              "       'status', 'action', 'type', 'created_at', 'updated_at'],\n",
              "      dtype='object')"
            ]
          },
          "metadata": {
            "tags": []
          },
          "execution_count": 59
        }
      ]
    },
    {
      "cell_type": "code",
      "metadata": {
        "id": "lMppIpwwl_xK",
        "colab_type": "code",
        "outputId": "9406223b-18f3-46cb-f5ae-71ed537beb46",
        "colab": {
          "base_uri": "https://localhost:8080/",
          "height": 35
        }
      },
      "source": [
        "#knowing the table size of our users,posts and following dataframe using columns and rows\n",
        "users.shape,posts.shape,following.shape"
      ],
      "execution_count": 60,
      "outputs": [
        {
          "output_type": "execute_result",
          "data": {
            "text/plain": [
              "((2293, 12), (876, 12), (5296, 3))"
            ]
          },
          "metadata": {
            "tags": []
          },
          "execution_count": 60
        }
      ]
    },
    {
      "cell_type": "code",
      "metadata": {
        "id": "HwpO-sgToFFE",
        "colab_type": "code",
        "colab": {}
      },
      "source": [
        "# Remove html tags\n",
        "posts['content'] = posts['content'].str.replace(r'<[^>]*>', '')\n",
        "\n",
        "# Remove white spaces including new lines\n",
        "posts['content'] = posts['content'].str.replace(r'\\s', ' ')\n",
        "\n",
        "# Remove square brackets\n",
        "posts['content'] = posts['content'].str.replace(r'\\[.*?\\]', '')\n",
        "\n",
        "# Remove image files\n",
        "posts['content'] = posts['content'].str.replace(r'\\(.*?\\)', '')"
      ],
      "execution_count": 0,
      "outputs": []
    },
    {
      "cell_type": "markdown",
      "metadata": {
        "id": "mX5p1yeooNXC",
        "colab_type": "text"
      },
      "source": [
        "**BUILDING THE \"WHO TO FOLLOW\" RECOMMENDER SYSTEM**"
      ]
    },
    {
      "cell_type": "code",
      "metadata": {
        "id": "6MzkSu1toVHV",
        "colab_type": "code",
        "colab": {}
      },
      "source": [
        "#importing needed modules\n",
        "import pandas as pd\n",
        "from sklearn.metrics.pairwise import linear_kernel\n",
        "from sklearn.feature_extraction.text import TfidfVectorizer"
      ],
      "execution_count": 0,
      "outputs": []
    },
    {
      "cell_type": "code",
      "metadata": {
        "id": "yuZ_83cUokAn",
        "colab_type": "code",
        "colab": {}
      },
      "source": [
        "tfidf = TfidfVectorizer(stop_words='english')\n",
        "# filling the missing values with empty string\n",
        "users['short_bio'] = users['short_bio'].fillna('')\n",
        "# computing TF-IDF matrix required for calculating cosine similarity\n",
        "users_short_bio_matrix = tfidf.fit_transform(users['short_bio'])"
      ],
      "execution_count": 0,
      "outputs": []
    },
    {
      "cell_type": "code",
      "metadata": {
        "id": "TTouMx_kosW4",
        "colab_type": "code",
        "outputId": "c20771cf-8c28-4539-c075-31ec8e2001dd",
        "colab": {
          "base_uri": "https://localhost:8080/",
          "height": 35
        }
      },
      "source": [
        "#knowing the matrix size of our users_short_bio_matrix dataframe\n",
        "print(\"The users matrix shape is \",users_short_bio_matrix.shape)"
      ],
      "execution_count": 63,
      "outputs": [
        {
          "output_type": "stream",
          "text": [
            "The users matrix shape is  (2293, 2242)\n"
          ],
          "name": "stdout"
        }
      ]
    },
    {
      "cell_type": "code",
      "metadata": {
        "id": "uNjTRn11pONF",
        "colab_type": "code",
        "colab": {}
      },
      "source": [
        "#calculating the cosine similarity for the users_short_bio_matrix \n",
        "cos_sim = linear_kernel(users_short_bio_matrix, users_short_bio_matrix)\n",
        "#getting the user indices\n",
        "user_indices = pd.Series(users['name'].index)"
      ],
      "execution_count": 0,
      "outputs": []
    },
    {
      "cell_type": "code",
      "metadata": {
        "id": "Mjf4tkZ3pneH",
        "colab_type": "code",
        "colab": {}
      },
      "source": [
        "#function to recommend user to follow based on similarities in their short_bio\n",
        "def who_to_follow(index, cosine_sim=cos_sim):\n",
        "    if index<users_short_bio_matrix.shape[0]:\n",
        "        id = user_indices[index]\n",
        "        # Get the pairwsie similarity scores of all names\n",
        "        # sorting them and getting top 5\n",
        "        similarity_scores = list(enumerate(cosine_sim[id]))\n",
        "        similarity_scores = sorted(similarity_scores, key=lambda x: x[1], reverse=True)\n",
        "        similarity_scores = similarity_scores[1:6]\n",
        "        \n",
        "        # Get the names index\n",
        "        lucid_index = [i[0] for i in similarity_scores]\n",
        "        # Return the top 5 most similar names\n",
        "        return users['name'].iloc[lucid_index]\n",
        "    else: return \"No recommedations for this user\"\n",
        "\n"
      ],
      "execution_count": 0,
      "outputs": []
    },
    {
      "cell_type": "markdown",
      "metadata": {
        "id": "Tc5XTXiDq3J9",
        "colab_type": "text"
      },
      "source": [
        "**TESTING THE RECOMMENDER SYSTEM**"
      ]
    },
    {
      "cell_type": "code",
      "metadata": {
        "id": "sKl78uSrq6UB",
        "colab_type": "code",
        "outputId": "1419c464-e1a2-481e-cd72-ea96a6bde065",
        "colab": {
          "base_uri": "https://localhost:8080/",
          "height": 127
        }
      },
      "source": [
        "who_to_follow(50)"
      ],
      "execution_count": 73,
      "outputs": [
        {
          "output_type": "execute_result",
          "data": {
            "text/plain": [
              "712     Awotola Peter\n",
              "713         Dr Drakky\n",
              "714    idongesit ansa\n",
              "715     Adebiyi lanre\n",
              "17     Wisdom Anthony\n",
              "Name: name, dtype: object"
            ]
          },
          "metadata": {
            "tags": []
          },
          "execution_count": 73
        }
      ]
    },
    {
      "cell_type": "code",
      "metadata": {
        "id": "UJZ_uBSnrOXK",
        "colab_type": "code",
        "outputId": "523f437b-caa2-4fde-d15e-71c24b4917b3",
        "colab": {
          "base_uri": "https://localhost:8080/",
          "height": 127
        }
      },
      "source": [
        "\n",
        "\n",
        "who_to_follow(435)\n",
        "\n"
      ],
      "execution_count": 76,
      "outputs": [
        {
          "output_type": "execute_result",
          "data": {
            "text/plain": [
              "437       Stephen Ilori\n",
              "166    Idongesit Essien\n",
              "795        Edosa Osagie\n",
              "307     Adenike Awofeso\n",
              "814       Ebere Uzodufa\n",
              "Name: name, dtype: object"
            ]
          },
          "metadata": {
            "tags": []
          },
          "execution_count": 76
        }
      ]
    },
    {
      "cell_type": "markdown",
      "metadata": {
        "id": "Fr1pqrt_rgp_",
        "colab_type": "text"
      },
      "source": [
        "**BUILDING THE \"WHAT ARTICLES TO READ\" RECOMMENDER SYSTEM**"
      ]
    },
    {
      "cell_type": "code",
      "metadata": {
        "id": "xfNqHzCZrffm",
        "colab_type": "code",
        "colab": {}
      },
      "source": [
        "tfidf = TfidfVectorizer(stop_words='english')\n",
        "# filling the missing values with empty string\n",
        "posts['content'] = posts['content'].fillna('')\n",
        "# computing TF-IDF matrix required for calculating cosine similarity\n",
        "posts_matrix = tfidf.fit_transform(posts['content'])"
      ],
      "execution_count": 0,
      "outputs": []
    },
    {
      "cell_type": "code",
      "metadata": {
        "id": "rH70-mTqrxQ-",
        "colab_type": "code",
        "outputId": "0053bf35-4e7d-4226-f4a3-0170af643f21",
        "colab": {
          "base_uri": "https://localhost:8080/",
          "height": 35
        }
      },
      "source": [
        "#knowing the matrix size of our posts_matrix dataframe\n",
        "print(\"The post matrix shape is \",posts_matrix.shape)"
      ],
      "execution_count": 67,
      "outputs": [
        {
          "output_type": "stream",
          "text": [
            "The post matrix shape is  (876, 4597)\n"
          ],
          "name": "stdout"
        }
      ]
    },
    {
      "cell_type": "code",
      "metadata": {
        "id": "02F6TovMsC_t",
        "colab_type": "code",
        "colab": {}
      },
      "source": [
        "#calculating the cosine similarity for our posts_matrix\n",
        "cos_sim = linear_kernel(posts_matrix, posts_matrix)\n",
        "#getting our post indices\n",
        "posts_indices = pd.Series(posts['title'].index)"
      ],
      "execution_count": 0,
      "outputs": []
    },
    {
      "cell_type": "code",
      "metadata": {
        "id": "cotK-sjEsN3m",
        "colab_type": "code",
        "colab": {}
      },
      "source": [
        "#function to recommend user to follow based on similarities in their short_bio\n",
        "def article_to_read(index, cosine_sim=cos_sim):\n",
        "    if index<posts_matrix.shape[0]:\n",
        "        id = posts_indices[index]\n",
        "        # Get the pairwsie similarity scores of all names\n",
        "        # sorting them and getting top 5\n",
        "        similarity_scores = list(enumerate(cosine_sim[id]))\n",
        "        similarity_scores = sorted(similarity_scores, key=lambda x: x[1], reverse=True)\n",
        "        similarity_scores = similarity_scores[1:6]\n",
        "        # Get the names index\n",
        "        lucid_index = [i[0] for i in similarity_scores]\n",
        "        # Return the top 5 most similar names\n",
        "        return posts['title'].iloc[lucid_index]\n",
        "    else: return \"No recommedations for this user\""
      ],
      "execution_count": 0,
      "outputs": []
    },
    {
      "cell_type": "markdown",
      "metadata": {
        "id": "4hqdr4bquI2j",
        "colab_type": "text"
      },
      "source": [
        "**TESTING THE RECOMMENDER SYSTEM**"
      ]
    },
    {
      "cell_type": "code",
      "metadata": {
        "id": "6ovPfHm7uXIL",
        "colab_type": "code",
        "outputId": "64cbfe36-259d-4c19-d282-5ce5b883c060",
        "colab": {
          "base_uri": "https://localhost:8080/",
          "height": 127
        }
      },
      "source": [
        "article_to_read(750)"
      ],
      "execution_count": 78,
      "outputs": [
        {
          "output_type": "execute_result",
          "data": {
            "text/plain": [
              "746                             CSS Rules\n",
              "749                             CSS Rules\n",
              "750                             CSS Rules\n",
              "751                             CSS Rules\n",
              "732    why CSS has made HTML much better.\n",
              "Name: title, dtype: object"
            ]
          },
          "metadata": {
            "tags": []
          },
          "execution_count": 78
        }
      ]
    }
  ]
}