{
  "nbformat": 4,
  "nbformat_minor": 0,
  "metadata": {
    "colab": {
      "name": "Team_Swift_Recommender_sys",
      "provenance": [],
      "collapsed_sections": []
    },
    "kernelspec": {
      "name": "python3",
      "display_name": "Python 3"
    }
  },
  "cells": [
    {
      "cell_type": "markdown",
      "metadata": {
        "id": "_9H9SzaWAH9t",
        "colab_type": "text"
      },
      "source": [
        "**Team_Swift** *Recommender System for Lucid.blog*\n",
        "\n",
        "\n",
        "---\n",
        "\n",
        "\n",
        "\n"
      ]
    },
    {
      "cell_type": "markdown",
      "metadata": {
        "id": "HUQq29e7E6k4",
        "colab_type": "text"
      },
      "source": [
        "\n",
        "\n",
        "*   importing data from google drive to colab\n",
        "\n",
        "\n",
        "\n"
      ]
    },
    {
      "cell_type": "code",
      "metadata": {
        "id": "h8CQ-m-k6Sbd",
        "colab_type": "code",
        "outputId": "b383b932-7edf-44dd-d1d7-b2a226a58ba9",
        "colab": {
          "base_uri": "https://localhost:8080/",
          "height": 55
        }
      },
      "source": [
        "from google.colab import drive\n",
        "drive.mount('/content/drive')"
      ],
      "execution_count": 0,
      "outputs": [
        {
          "output_type": "stream",
          "text": [
            "Drive already mounted at /content/drive; to attempt to forcibly remount, call drive.mount(\"/content/drive\", force_remount=True).\n"
          ],
          "name": "stdout"
        }
      ]
    },
    {
      "cell_type": "markdown",
      "metadata": {
        "id": "I36bwCPDNF-2",
        "colab_type": "text"
      },
      "source": [
        "**DATA_PREPARATION**"
      ]
    },
    {
      "cell_type": "markdown",
      "metadata": {
        "id": "vvzOnz5JFWtX",
        "colab_type": "text"
      },
      "source": [
        "\n",
        "\n",
        "*   importing libaries\n",
        "\n"
      ]
    },
    {
      "cell_type": "code",
      "metadata": {
        "id": "kHLeRrJriVTz",
        "colab_type": "code",
        "colab": {}
      },
      "source": [
        "import pandas as pd\n",
        "import numpy as np"
      ],
      "execution_count": 0,
      "outputs": []
    },
    {
      "cell_type": "markdown",
      "metadata": {
        "id": "YlBtPttMNtyD",
        "colab_type": "text"
      },
      "source": [
        "\n",
        "\n",
        "1.   **User Data**\n",
        "\n",
        "\n"
      ]
    },
    {
      "cell_type": "code",
      "metadata": {
        "id": "M2noGAucipzG",
        "colab_type": "code",
        "colab": {}
      },
      "source": [
        "\n",
        "users_cols = ['user_id', 'fullname', 'username', 'email', 'image', 'email_provider', 'provider_id', 'password', 'remember_token', 'created_at', 'updated_at', 'short_bio']\n",
        "users = pd.read_csv('/content/drive/My Drive/lucid/users.csv', names=users_cols)\n",
        "users.drop(['email', 'email_provider', 'image', 'provider_id', 'password', 'remember_token', 'created_at', 'updated_at'], axis=1, inplace=True)"
      ],
      "execution_count": 0,
      "outputs": []
    },
    {
      "cell_type": "code",
      "metadata": {
        "id": "oaRPEwNbk8DR",
        "colab_type": "code",
        "outputId": "05a12795-8326-4fc2-e29a-919e99574e65",
        "colab": {
          "base_uri": "https://localhost:8080/",
          "height": 238
        }
      },
      "source": [
        "users.head(6)"
      ],
      "execution_count": 42,
      "outputs": [
        {
          "output_type": "execute_result",
          "data": {
            "text/html": [
              "<div>\n",
              "<style scoped>\n",
              "    .dataframe tbody tr th:only-of-type {\n",
              "        vertical-align: middle;\n",
              "    }\n",
              "\n",
              "    .dataframe tbody tr th {\n",
              "        vertical-align: top;\n",
              "    }\n",
              "\n",
              "    .dataframe thead th {\n",
              "        text-align: right;\n",
              "    }\n",
              "</style>\n",
              "<table border=\"1\" class=\"dataframe\">\n",
              "  <thead>\n",
              "    <tr style=\"text-align: right;\">\n",
              "      <th></th>\n",
              "      <th>user_id</th>\n",
              "      <th>fullname</th>\n",
              "      <th>username</th>\n",
              "      <th>short_bio</th>\n",
              "    </tr>\n",
              "  </thead>\n",
              "  <tbody>\n",
              "    <tr>\n",
              "      <th>0</th>\n",
              "      <td>id</td>\n",
              "      <td>name</td>\n",
              "      <td>username</td>\n",
              "      <td>short_bio</td>\n",
              "    </tr>\n",
              "    <tr>\n",
              "      <th>1</th>\n",
              "      <td>1</td>\n",
              "      <td>Eniayomi Oluwaseyi</td>\n",
              "      <td>eniayomi</td>\n",
              "      <td>Software Developer | DevOPs Engineer</td>\n",
              "    </tr>\n",
              "    <tr>\n",
              "      <th>2</th>\n",
              "      <td>2</td>\n",
              "      <td>Elijah Okokon</td>\n",
              "      <td>DMatrix</td>\n",
              "      <td>Web Developer</td>\n",
              "    </tr>\n",
              "    <tr>\n",
              "      <th>3</th>\n",
              "      <td>3</td>\n",
              "      <td>Jeffrey Ogah</td>\n",
              "      <td>jeff.ogah</td>\n",
              "      <td>Front End Developer | React Developer | Mentor...</td>\n",
              "    </tr>\n",
              "    <tr>\n",
              "      <th>4</th>\n",
              "      <td>4</td>\n",
              "      <td>Oluwaseyi Oluwapelumi</td>\n",
              "      <td>nathan</td>\n",
              "      <td>| Software Developer | DevOps Engineer | @linu...</td>\n",
              "    </tr>\n",
              "    <tr>\n",
              "      <th>5</th>\n",
              "      <td>5</td>\n",
              "      <td>PoRH</td>\n",
              "      <td>lamar</td>\n",
              "      <td>I Am lamar and you don't think am real?</td>\n",
              "    </tr>\n",
              "  </tbody>\n",
              "</table>\n",
              "</div>"
            ],
            "text/plain": [
              "  user_id  ...                                          short_bio\n",
              "0      id  ...                                          short_bio\n",
              "1       1  ...               Software Developer | DevOPs Engineer\n",
              "2       2  ...                                      Web Developer\n",
              "3       3  ...  Front End Developer | React Developer | Mentor...\n",
              "4       4  ...  | Software Developer | DevOps Engineer | @linu...\n",
              "5       5  ...            I Am lamar and you don't think am real?\n",
              "\n",
              "[6 rows x 4 columns]"
            ]
          },
          "metadata": {
            "tags": []
          },
          "execution_count": 42
        }
      ]
    },
    {
      "cell_type": "markdown",
      "metadata": {
        "id": "AHfiXzB7N31C",
        "colab_type": "text"
      },
      "source": [
        "\n",
        "\n",
        "\n",
        "2.   **Posts Data**\n",
        "\n"
      ]
    },
    {
      "cell_type": "code",
      "metadata": {
        "id": "Cv1KnabjH9eT",
        "colab_type": "code",
        "colab": {}
      },
      "source": [
        "\n",
        "posts_cols = ['id', 'user_id', 'title', 'content', 'tags', 'slug', 'created_at', 'updated_at', 'image', 'status_id', 'action',\n",
        "           'post_id']\n",
        "posts = pd.read_csv('/content/drive/My Drive/lucid/posts.csv', names=posts_cols)\n",
        "posts.drop(['title', 'slug', 'updated_at', 'image', 'status_id', 'action', 'post_id'], axis=1, inplace=True)"
      ],
      "execution_count": 0,
      "outputs": []
    },
    {
      "cell_type": "code",
      "metadata": {
        "id": "9wYs_lF1J-2O",
        "colab_type": "code",
        "colab": {
          "base_uri": "https://localhost:8080/",
          "height": 238
        },
        "outputId": "e220926d-6439-42c9-8869-db35075b7190"
      },
      "source": [
        "posts.head(6)"
      ],
      "execution_count": 37,
      "outputs": [
        {
          "output_type": "execute_result",
          "data": {
            "text/html": [
              "<div>\n",
              "<style scoped>\n",
              "    .dataframe tbody tr th:only-of-type {\n",
              "        vertical-align: middle;\n",
              "    }\n",
              "\n",
              "    .dataframe tbody tr th {\n",
              "        vertical-align: top;\n",
              "    }\n",
              "\n",
              "    .dataframe thead th {\n",
              "        text-align: right;\n",
              "    }\n",
              "</style>\n",
              "<table border=\"1\" class=\"dataframe\">\n",
              "  <thead>\n",
              "    <tr style=\"text-align: right;\">\n",
              "      <th></th>\n",
              "      <th>id</th>\n",
              "      <th>user_id</th>\n",
              "      <th>content</th>\n",
              "      <th>tags</th>\n",
              "      <th>created_at</th>\n",
              "    </tr>\n",
              "  </thead>\n",
              "  <tbody>\n",
              "    <tr>\n",
              "      <th>0</th>\n",
              "      <td>id</td>\n",
              "      <td>user_id</td>\n",
              "      <td>content</td>\n",
              "      <td>tags</td>\n",
              "      <td>created_at</td>\n",
              "    </tr>\n",
              "    <tr>\n",
              "      <th>1</th>\n",
              "      <td>1</td>\n",
              "      <td>2077</td>\n",
              "      <td>I learnt how to use the table tag as i have us...</td>\n",
              "      <td>NaN</td>\n",
              "      <td>2019-08-25 20:39:01</td>\n",
              "    </tr>\n",
              "    <tr>\n",
              "      <th>2</th>\n",
              "      <td>2</td>\n",
              "      <td>1719</td>\n",
              "      <td>I am on this journey with start.ng, and here ...</td>\n",
              "      <td>Technology</td>\n",
              "      <td>2019-08-25 20:44:36</td>\n",
              "    </tr>\n",
              "    <tr>\n",
              "      <th>3</th>\n",
              "      <td>4</td>\n",
              "      <td>1310</td>\n",
              "      <td>I have not been attending classes on the HNG c...</td>\n",
              "      <td>NaN</td>\n",
              "      <td>2019-08-25 20:50:33</td>\n",
              "    </tr>\n",
              "    <tr>\n",
              "      <th>4</th>\n",
              "      <td>6</td>\n",
              "      <td>1787</td>\n",
              "      <td>My journey on **StartNG** pre-internship progr...</td>\n",
              "      <td>NaN</td>\n",
              "      <td>2019-08-25 20:51:36</td>\n",
              "    </tr>\n",
              "    <tr>\n",
              "      <th>5</th>\n",
              "      <td>7</td>\n",
              "      <td>167</td>\n",
              "      <td>A Summary on The “idongesit.html” CV, Its Str...</td>\n",
              "      <td>NaN</td>\n",
              "      <td>2019-08-25 20:51:39</td>\n",
              "    </tr>\n",
              "  </tbody>\n",
              "</table>\n",
              "</div>"
            ],
            "text/plain": [
              "   id  user_id  ...        tags           created_at\n",
              "0  id  user_id  ...        tags           created_at\n",
              "1   1     2077  ...         NaN  2019-08-25 20:39:01\n",
              "2   2     1719  ...  Technology  2019-08-25 20:44:36\n",
              "3   4     1310  ...         NaN  2019-08-25 20:50:33\n",
              "4   6     1787  ...         NaN  2019-08-25 20:51:36\n",
              "5   7      167  ...         NaN  2019-08-25 20:51:39\n",
              "\n",
              "[6 rows x 5 columns]"
            ]
          },
          "metadata": {
            "tags": []
          },
          "execution_count": 37
        }
      ]
    },
    {
      "cell_type": "markdown",
      "metadata": {
        "id": "S0MoipxbOCLn",
        "colab_type": "text"
      },
      "source": [
        "\n",
        "\n",
        "\n",
        "3.   **Following Data**\n",
        "\n",
        "\n"
      ]
    },
    {
      "cell_type": "code",
      "metadata": {
        "id": "0LCr2-fxL-er",
        "colab_type": "code",
        "colab": {}
      },
      "source": [
        "\n",
        "fol_cols = ['id', 'follower_id', 'status']\n",
        "following = pd.read_csv('/content/drive/My Drive/lucid/following.csv', names=fol_cols)\n",
        "following.drop([], axis=1, inplace=True)"
      ],
      "execution_count": 0,
      "outputs": []
    },
    {
      "cell_type": "code",
      "metadata": {
        "id": "DhWpezUIOLFk",
        "colab_type": "code",
        "colab": {}
      },
      "source": [
        ""
      ],
      "execution_count": 0,
      "outputs": []
    },
    {
      "cell_type": "code",
      "metadata": {
        "id": "_oxBYdPRMqgt",
        "colab_type": "code",
        "colab": {
          "base_uri": "https://localhost:8080/",
          "height": 238
        },
        "outputId": "3632e5a2-c997-48ea-977a-542b78e0f3dc"
      },
      "source": [
        "following.head(6)"
      ],
      "execution_count": 41,
      "outputs": [
        {
          "output_type": "execute_result",
          "data": {
            "text/html": [
              "<div>\n",
              "<style scoped>\n",
              "    .dataframe tbody tr th:only-of-type {\n",
              "        vertical-align: middle;\n",
              "    }\n",
              "\n",
              "    .dataframe tbody tr th {\n",
              "        vertical-align: top;\n",
              "    }\n",
              "\n",
              "    .dataframe thead th {\n",
              "        text-align: right;\n",
              "    }\n",
              "</style>\n",
              "<table border=\"1\" class=\"dataframe\">\n",
              "  <thead>\n",
              "    <tr style=\"text-align: right;\">\n",
              "      <th></th>\n",
              "      <th>id</th>\n",
              "      <th>follower_id</th>\n",
              "      <th>status</th>\n",
              "    </tr>\n",
              "  </thead>\n",
              "  <tbody>\n",
              "    <tr>\n",
              "      <th>0</th>\n",
              "      <td>my_id</td>\n",
              "      <td>follower_id</td>\n",
              "      <td>status</td>\n",
              "    </tr>\n",
              "    <tr>\n",
              "      <th>1</th>\n",
              "      <td>3</td>\n",
              "      <td>6</td>\n",
              "      <td>1</td>\n",
              "    </tr>\n",
              "    <tr>\n",
              "      <th>2</th>\n",
              "      <td>6</td>\n",
              "      <td>3</td>\n",
              "      <td>1</td>\n",
              "    </tr>\n",
              "    <tr>\n",
              "      <th>3</th>\n",
              "      <td>3</td>\n",
              "      <td>2</td>\n",
              "      <td>1</td>\n",
              "    </tr>\n",
              "    <tr>\n",
              "      <th>4</th>\n",
              "      <td>3</td>\n",
              "      <td>7</td>\n",
              "      <td>1</td>\n",
              "    </tr>\n",
              "    <tr>\n",
              "      <th>5</th>\n",
              "      <td>7</td>\n",
              "      <td>2</td>\n",
              "      <td>1</td>\n",
              "    </tr>\n",
              "  </tbody>\n",
              "</table>\n",
              "</div>"
            ],
            "text/plain": [
              "      id  follower_id  status\n",
              "0  my_id  follower_id  status\n",
              "1      3            6       1\n",
              "2      6            3       1\n",
              "3      3            2       1\n",
              "4      3            7       1\n",
              "5      7            2       1"
            ]
          },
          "metadata": {
            "tags": []
          },
          "execution_count": 41
        }
      ]
    },
    {
      "cell_type": "markdown",
      "metadata": {
        "id": "48yZOsweOgON",
        "colab_type": "text"
      },
      "source": [
        "\n",
        "\n",
        "4.  **Thoughts Data**\n",
        "\n"
      ]
    },
    {
      "cell_type": "code",
      "metadata": {
        "id": "acrSB8qwOuP2",
        "colab_type": "code",
        "colab": {}
      },
      "source": [
        "\n",
        "thou_cols = ['id', 'user_id', 'content',\n",
        "'created_at','updated_at']\n",
        "thoughts = pd.read_csv('/content/drive/My Drive/lucid/thoughts.csv', names=thou_cols)\n",
        "thoughts.drop(['updated_at'], axis=1, inplace=True)"
      ],
      "execution_count": 0,
      "outputs": []
    },
    {
      "cell_type": "code",
      "metadata": {
        "id": "yo5iMXoyP0xv",
        "colab_type": "code",
        "colab": {
          "base_uri": "https://localhost:8080/",
          "height": 238
        },
        "outputId": "6f30a5be-3dd2-4b43-85d6-244d242ec6a4"
      },
      "source": [
        "thoughts.head(6)"
      ],
      "execution_count": 50,
      "outputs": [
        {
          "output_type": "execute_result",
          "data": {
            "text/html": [
              "<div>\n",
              "<style scoped>\n",
              "    .dataframe tbody tr th:only-of-type {\n",
              "        vertical-align: middle;\n",
              "    }\n",
              "\n",
              "    .dataframe tbody tr th {\n",
              "        vertical-align: top;\n",
              "    }\n",
              "\n",
              "    .dataframe thead th {\n",
              "        text-align: right;\n",
              "    }\n",
              "</style>\n",
              "<table border=\"1\" class=\"dataframe\">\n",
              "  <thead>\n",
              "    <tr style=\"text-align: right;\">\n",
              "      <th></th>\n",
              "      <th>id</th>\n",
              "      <th>user_id</th>\n",
              "      <th>content</th>\n",
              "      <th>created_at</th>\n",
              "    </tr>\n",
              "  </thead>\n",
              "  <tbody>\n",
              "    <tr>\n",
              "      <th>0</th>\n",
              "      <td>id</td>\n",
              "      <td>user_id</td>\n",
              "      <td>content</td>\n",
              "      <td>created_at</td>\n",
              "    </tr>\n",
              "    <tr>\n",
              "      <th>1</th>\n",
              "      <td>1</td>\n",
              "      <td>2195</td>\n",
              "      <td>hhhhhhhh</td>\n",
              "      <td>2019-08-26 14:30:26</td>\n",
              "    </tr>\n",
              "    <tr>\n",
              "      <th>2</th>\n",
              "      <td>2</td>\n",
              "      <td>148</td>\n",
              "      <td>Can't believe I'm learning ML</td>\n",
              "      <td>2019-08-26 14:57:35</td>\n",
              "    </tr>\n",
              "    <tr>\n",
              "      <th>3</th>\n",
              "      <td>3</td>\n",
              "      <td>2212</td>\n",
              "      <td>- what you have learned so far\\r\\nI've learned...</td>\n",
              "      <td>2019-08-26 15:35:41</td>\n",
              "    </tr>\n",
              "    <tr>\n",
              "      <th>4</th>\n",
              "      <td>4</td>\n",
              "      <td>1</td>\n",
              "      <td>Hey people</td>\n",
              "      <td>2019-08-26 16:12:07</td>\n",
              "    </tr>\n",
              "    <tr>\n",
              "      <th>5</th>\n",
              "      <td>5</td>\n",
              "      <td>2223</td>\n",
              "      <td>nice</td>\n",
              "      <td>2019-08-26 16:24:55</td>\n",
              "    </tr>\n",
              "  </tbody>\n",
              "</table>\n",
              "</div>"
            ],
            "text/plain": [
              "   id  ...           created_at\n",
              "0  id  ...           created_at\n",
              "1   1  ...  2019-08-26 14:30:26\n",
              "2   2  ...  2019-08-26 14:57:35\n",
              "3   3  ...  2019-08-26 15:35:41\n",
              "4   4  ...  2019-08-26 16:12:07\n",
              "5   5  ...  2019-08-26 16:24:55\n",
              "\n",
              "[6 rows x 4 columns]"
            ]
          },
          "metadata": {
            "tags": []
          },
          "execution_count": 50
        }
      ]
    }
  ]
}