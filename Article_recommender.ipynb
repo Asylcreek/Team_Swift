{
  "nbformat": 4,
  "nbformat_minor": 0,
  "metadata": {
    "colab": {
      "name": "Article_recommender.ipynb",
      "provenance": [],
      "include_colab_link": true
    },
    "kernelspec": {
      "name": "python3",
      "display_name": "Python 3"
    }
  },
  "cells": [
    {
      "cell_type": "markdown",
      "metadata": {
        "id": "view-in-github",
        "colab_type": "text"
      },
      "source": [
        "<a href=\"https://colab.research.google.com/github/Austin-Deccentric/Team_Swift/blob/master/Article_recommender.ipynb\" target=\"_parent\"><img src=\"https://colab.research.google.com/assets/colab-badge.svg\" alt=\"Open In Colab\"/></a>"
      ]
    },
    {
      "cell_type": "code",
      "metadata": {
        "id": "axfUtAqA32YY",
        "colab_type": "code",
        "outputId": "3a010bed-576a-4125-ee5a-a8cfe1d036c6",
        "colab": {
          "base_uri": "https://localhost:8080/",
          "height": 1000
        }
      },
      "source": [
        "pip install -U turicreate"
      ],
      "execution_count": 2,
      "outputs": [
        {
          "output_type": "stream",
          "text": [
            "Collecting turicreate\n",
            "\u001b[?25l  Downloading https://files.pythonhosted.org/packages/68/d7/66c315dc0b33d5bff78617302bf3211a16b0630b34964291294ffe98f2f5/turicreate-5.7.1-cp36-cp36m-manylinux1_x86_64.whl (90.5MB)\n",
            "\u001b[K     |████████████████████████████████| 90.5MB 337kB/s \n",
            "\u001b[?25hRequirement already satisfied, skipping upgrade: decorator>=4.0.9 in /usr/local/lib/python3.6/dist-packages (from turicreate) (4.4.0)\n",
            "Requirement already satisfied, skipping upgrade: pandas>=0.23.2 in /usr/local/lib/python3.6/dist-packages (from turicreate) (0.24.2)\n",
            "Collecting numpy==1.16.4 (from turicreate)\n",
            "\u001b[?25l  Downloading https://files.pythonhosted.org/packages/87/2d/e4656149cbadd3a8a0369fcd1a9c7d61cc7b87b3903b85389c70c989a696/numpy-1.16.4-cp36-cp36m-manylinux1_x86_64.whl (17.3MB)\n",
            "\u001b[K     |████████████████████████████████| 17.3MB 32.9MB/s \n",
            "\u001b[?25hRequirement already satisfied, skipping upgrade: requests>=2.9.1 in /usr/local/lib/python3.6/dist-packages (from turicreate) (2.21.0)\n",
            "Collecting pillow>=5.2.0 (from turicreate)\n",
            "\u001b[?25l  Downloading https://files.pythonhosted.org/packages/14/41/db6dec65ddbc176a59b89485e8cc136a433ed9c6397b6bfe2cd38412051e/Pillow-6.1.0-cp36-cp36m-manylinux1_x86_64.whl (2.1MB)\n",
            "\u001b[K     |████████████████████████████████| 2.1MB 31.8MB/s \n",
            "\u001b[?25hRequirement already satisfied, skipping upgrade: scipy>=1.1.0 in /usr/local/lib/python3.6/dist-packages (from turicreate) (1.3.1)\n",
            "Collecting coremltools==3.0b3 (from turicreate)\n",
            "\u001b[?25l  Downloading https://files.pythonhosted.org/packages/b8/89/b69e3d446dbfe5632a8f24be0c7d03b19bcc6c0a0bd3d84c83c6680bb602/coremltools-3.0b3-cp36-none-manylinux1_x86_64.whl (3.4MB)\n",
            "\u001b[K     |████████████████████████████████| 3.4MB 29.8MB/s \n",
            "\u001b[?25hCollecting resampy==0.2.1 (from turicreate)\n",
            "\u001b[?25l  Downloading https://files.pythonhosted.org/packages/14/b6/66a06d85474190b50aee1a6c09cdc95bb405ac47338b27e9b21409da1760/resampy-0.2.1.tar.gz (322kB)\n",
            "\u001b[K     |████████████████████████████████| 327kB 49.6MB/s \n",
            "\u001b[?25hRequirement already satisfied, skipping upgrade: prettytable==0.7.2 in /usr/local/lib/python3.6/dist-packages (from turicreate) (0.7.2)\n",
            "Collecting mxnet<1.2.0,>=1.1.0 (from turicreate)\n",
            "\u001b[?25l  Downloading https://files.pythonhosted.org/packages/96/98/c9877e100c3d1ac92263bfaba7bb8a49294e099046592040a2ff8620ac61/mxnet-1.1.0.post0-py2.py3-none-manylinux1_x86_64.whl (23.8MB)\n",
            "\u001b[K     |████████████████████████████████| 23.8MB 1.2MB/s \n",
            "\u001b[?25hRequirement already satisfied, skipping upgrade: six>=1.10.0 in /usr/local/lib/python3.6/dist-packages (from turicreate) (1.12.0)\n",
            "Requirement already satisfied, skipping upgrade: pytz>=2011k in /usr/local/lib/python3.6/dist-packages (from pandas>=0.23.2->turicreate) (2018.9)\n",
            "Requirement already satisfied, skipping upgrade: python-dateutil>=2.5.0 in /usr/local/lib/python3.6/dist-packages (from pandas>=0.23.2->turicreate) (2.5.3)\n",
            "Requirement already satisfied, skipping upgrade: certifi>=2017.4.17 in /usr/local/lib/python3.6/dist-packages (from requests>=2.9.1->turicreate) (2019.6.16)\n",
            "Requirement already satisfied, skipping upgrade: idna<2.9,>=2.5 in /usr/local/lib/python3.6/dist-packages (from requests>=2.9.1->turicreate) (2.8)\n",
            "Requirement already satisfied, skipping upgrade: urllib3<1.25,>=1.21.1 in /usr/local/lib/python3.6/dist-packages (from requests>=2.9.1->turicreate) (1.24.3)\n",
            "Requirement already satisfied, skipping upgrade: chardet<3.1.0,>=3.0.2 in /usr/local/lib/python3.6/dist-packages (from requests>=2.9.1->turicreate) (3.0.4)\n",
            "Requirement already satisfied, skipping upgrade: protobuf>=3.1.0 in /usr/local/lib/python3.6/dist-packages (from coremltools==3.0b3->turicreate) (3.7.1)\n",
            "Requirement already satisfied, skipping upgrade: numba>=0.32 in /usr/local/lib/python3.6/dist-packages (from resampy==0.2.1->turicreate) (0.40.1)\n",
            "Collecting graphviz<0.9.0,>=0.8.1 (from mxnet<1.2.0,>=1.1.0->turicreate)\n",
            "  Downloading https://files.pythonhosted.org/packages/53/39/4ab213673844e0c004bed8a0781a0721a3f6bb23eb8854ee75c236428892/graphviz-0.8.4-py2.py3-none-any.whl\n",
            "Requirement already satisfied, skipping upgrade: setuptools in /usr/local/lib/python3.6/dist-packages (from protobuf>=3.1.0->coremltools==3.0b3->turicreate) (41.2.0)\n",
            "Requirement already satisfied, skipping upgrade: llvmlite>=0.25.0dev0 in /usr/local/lib/python3.6/dist-packages (from numba>=0.32->resampy==0.2.1->turicreate) (0.29.0)\n",
            "Building wheels for collected packages: resampy\n",
            "  Building wheel for resampy (setup.py) ... \u001b[?25l\u001b[?25hdone\n",
            "  Created wheel for resampy: filename=resampy-0.2.1-cp36-none-any.whl size=320847 sha256=1d58872bae897d27f8db369348eb5dccb48e118164bfaf352a3052cb80c4b66b\n",
            "  Stored in directory: /root/.cache/pip/wheels/ff/4f/ed/2e6c676c23efe5394bb40ade50662e90eb46e29b48324c5f9b\n",
            "Successfully built resampy\n",
            "\u001b[31mERROR: datascience 0.10.6 has requirement folium==0.2.1, but you'll have folium 0.8.3 which is incompatible.\u001b[0m\n",
            "\u001b[31mERROR: albumentations 0.1.12 has requirement imgaug<0.2.7,>=0.2.5, but you'll have imgaug 0.2.9 which is incompatible.\u001b[0m\n",
            "\u001b[31mERROR: mxnet 1.1.0.post0 has requirement numpy<1.15.0,>=1.8.2, but you'll have numpy 1.16.4 which is incompatible.\u001b[0m\n",
            "\u001b[31mERROR: mxnet 1.1.0.post0 has requirement requests<2.19.0,>=2.18.4, but you'll have requests 2.21.0 which is incompatible.\u001b[0m\n",
            "Installing collected packages: numpy, pillow, coremltools, resampy, graphviz, mxnet, turicreate\n",
            "  Found existing installation: numpy 1.16.5\n",
            "    Uninstalling numpy-1.16.5:\n",
            "      Successfully uninstalled numpy-1.16.5\n",
            "  Found existing installation: Pillow 4.3.0\n",
            "    Uninstalling Pillow-4.3.0:\n",
            "      Successfully uninstalled Pillow-4.3.0\n",
            "  Found existing installation: resampy 0.2.2\n",
            "    Uninstalling resampy-0.2.2:\n",
            "      Successfully uninstalled resampy-0.2.2\n",
            "  Found existing installation: graphviz 0.10.1\n",
            "    Uninstalling graphviz-0.10.1:\n",
            "      Successfully uninstalled graphviz-0.10.1\n",
            "Successfully installed coremltools-3.0b3 graphviz-0.8.4 mxnet-1.1.0.post0 numpy-1.16.4 pillow-6.1.0 resampy-0.2.1 turicreate-5.7.1\n"
          ],
          "name": "stdout"
        },
        {
          "output_type": "display_data",
          "data": {
            "application/vnd.colab-display-data+json": {
              "pip_warning": {
                "packages": [
                  "PIL",
                  "numpy"
                ]
              }
            }
          },
          "metadata": {
            "tags": []
          }
        }
      ]
    },
    {
      "cell_type": "code",
      "metadata": {
        "id": "CvDXbYsB15kc",
        "colab_type": "code",
        "colab": {}
      },
      "source": [
        "import pandas as pd\n",
        "import numpy as np\n",
        "import turicreate as tc"
      ],
      "execution_count": 0,
      "outputs": []
    },
    {
      "cell_type": "code",
      "metadata": {
        "id": "l135hA6m2hku",
        "colab_type": "code",
        "outputId": "080d7997-cfb2-43e2-a352-1b9c7dbd5e0f",
        "colab": {
          "base_uri": "https://localhost:8080/",
          "height": 139
        }
      },
      "source": [
        "from google.colab import drive\n",
        "drive.mount('/gdrive')\n",
        "%cd /gdrive/My Drive/hngi6/Recommendation_system/"
      ],
      "execution_count": 4,
      "outputs": [
        {
          "output_type": "stream",
          "text": [
            "Go to this URL in a browser: https://accounts.google.com/o/oauth2/auth?client_id=947318989803-6bn6qk8qdgf4n4g3pfee6491hc0brc4i.apps.googleusercontent.com&redirect_uri=urn%3Aietf%3Awg%3Aoauth%3A2.0%3Aoob&scope=email%20https%3A%2F%2Fwww.googleapis.com%2Fauth%2Fdocs.test%20https%3A%2F%2Fwww.googleapis.com%2Fauth%2Fdrive%20https%3A%2F%2Fwww.googleapis.com%2Fauth%2Fdrive.photos.readonly%20https%3A%2F%2Fwww.googleapis.com%2Fauth%2Fpeopleapi.readonly&response_type=code\n",
            "\n",
            "Enter your authorization code:\n",
            "··········\n",
            "Mounted at /gdrive\n",
            "/gdrive/My Drive/hngi6/Recommendation_system\n"
          ],
          "name": "stdout"
        }
      ]
    },
    {
      "cell_type": "code",
      "metadata": {
        "id": "q6K5wHTD2rFd",
        "colab_type": "code",
        "colab": {}
      },
      "source": [
        "post = pd.read_csv('posts.csv')\n",
        "ratings = pd.read_csv('ratings.csv')"
      ],
      "execution_count": 0,
      "outputs": []
    },
    {
      "cell_type": "code",
      "metadata": {
        "id": "pv5oxFS84Pad",
        "colab_type": "code",
        "outputId": "faf6a8d0-cb5c-4bce-aeaf-13d7df7a838b",
        "colab": {
          "base_uri": "https://localhost:8080/",
          "height": 750
        }
      },
      "source": [
        "post.head(10)"
      ],
      "execution_count": 6,
      "outputs": [
        {
          "output_type": "execute_result",
          "data": {
            "text/html": [
              "<div>\n",
              "<style scoped>\n",
              "    .dataframe tbody tr th:only-of-type {\n",
              "        vertical-align: middle;\n",
              "    }\n",
              "\n",
              "    .dataframe tbody tr th {\n",
              "        vertical-align: top;\n",
              "    }\n",
              "\n",
              "    .dataframe thead th {\n",
              "        text-align: right;\n",
              "    }\n",
              "</style>\n",
              "<table border=\"1\" class=\"dataframe\">\n",
              "  <thead>\n",
              "    <tr style=\"text-align: right;\">\n",
              "      <th></th>\n",
              "      <th>user_id</th>\n",
              "      <th>title</th>\n",
              "      <th>content</th>\n",
              "      <th>tags</th>\n",
              "      <th>slug</th>\n",
              "    </tr>\n",
              "  </thead>\n",
              "  <tbody>\n",
              "    <tr>\n",
              "      <th>0</th>\n",
              "      <td>2077</td>\n",
              "      <td>What i have learnt so far on HTML</td>\n",
              "      <td>I learnt how to use the table tag as i have us...</td>\n",
              "      <td>NaN</td>\n",
              "      <td>what-i-have-learnt-so-far-on-html-985</td>\n",
              "    </tr>\n",
              "    <tr>\n",
              "      <th>1</th>\n",
              "      <td>1719</td>\n",
              "      <td>HTML BEGINS HERE</td>\n",
              "      <td>I am on this journey with start.ng, and here ...</td>\n",
              "      <td>Technology</td>\n",
              "      <td>html-begins-here-4d6</td>\n",
              "    </tr>\n",
              "    <tr>\n",
              "      <th>2</th>\n",
              "      <td>1310</td>\n",
              "      <td>My Laziness In The Open</td>\n",
              "      <td>I have not been attending classes on the HNG c...</td>\n",
              "      <td>NaN</td>\n",
              "      <td>my-laziness-in-the-open-029</td>\n",
              "    </tr>\n",
              "    <tr>\n",
              "      <th>3</th>\n",
              "      <td>1787</td>\n",
              "      <td>MY TASK 2</td>\n",
              "      <td>My journey on **StartNG** pre-internship progr...</td>\n",
              "      <td>NaN</td>\n",
              "      <td>my-task-2-649</td>\n",
              "    </tr>\n",
              "    <tr>\n",
              "      <th>4</th>\n",
              "      <td>167</td>\n",
              "      <td>Task 2</td>\n",
              "      <td>A Summary on The “idongesit.html” CV, Its Str...</td>\n",
              "      <td>NaN</td>\n",
              "      <td>task-2-7e5</td>\n",
              "    </tr>\n",
              "    <tr>\n",
              "      <th>5</th>\n",
              "      <td>329</td>\n",
              "      <td>My Journey on HTML</td>\n",
              "      <td>Using the Hyper Text Markup Language (HTML) ha...</td>\n",
              "      <td>NaN</td>\n",
              "      <td>my-journey-on-html-ce5</td>\n",
              "    </tr>\n",
              "    <tr>\n",
              "      <th>6</th>\n",
              "      <td>2040</td>\n",
              "      <td>StartNG HTML Exposition</td>\n",
              "      <td>![](/storage/2040/images/img-kf6sy3kvg0.png)![...</td>\n",
              "      <td>NaN</td>\n",
              "      <td>startng-html-exposition-4d5</td>\n",
              "    </tr>\n",
              "    <tr>\n",
              "      <th>7</th>\n",
              "      <td>1787</td>\n",
              "      <td>MY TASK 2</td>\n",
              "      <td>My journey on **StartNG** pre-internship progr...</td>\n",
              "      <td>html</td>\n",
              "      <td>my-task-2-649</td>\n",
              "    </tr>\n",
              "    <tr>\n",
              "      <th>8</th>\n",
              "      <td>2040</td>\n",
              "      <td>StartNG HTML task</td>\n",
              "      <td>&lt;p&gt; &lt;/p&gt;\\n&lt;p&gt;I have learned a lot about HTML a...</td>\n",
              "      <td>NaN</td>\n",
              "      <td>startng-html-task-8e2</td>\n",
              "    </tr>\n",
              "    <tr>\n",
              "      <th>9</th>\n",
              "      <td>2040</td>\n",
              "      <td>On StartNG Pre-Internship</td>\n",
              "      <td>**What I have learned so far**\\n\\nI have learn...</td>\n",
              "      <td>StartNG pre-internship, Developer, Engineering...</td>\n",
              "      <td>on-startng-pre-internship-645</td>\n",
              "    </tr>\n",
              "  </tbody>\n",
              "</table>\n",
              "</div>"
            ],
            "text/plain": [
              "   user_id  ...                                   slug\n",
              "0     2077  ...  what-i-have-learnt-so-far-on-html-985\n",
              "1     1719  ...                   html-begins-here-4d6\n",
              "2     1310  ...            my-laziness-in-the-open-029\n",
              "3     1787  ...                          my-task-2-649\n",
              "4      167  ...                             task-2-7e5\n",
              "5      329  ...                 my-journey-on-html-ce5\n",
              "6     2040  ...            startng-html-exposition-4d5\n",
              "7     1787  ...                          my-task-2-649\n",
              "8     2040  ...                  startng-html-task-8e2\n",
              "9     2040  ...          on-startng-pre-internship-645\n",
              "\n",
              "[10 rows x 5 columns]"
            ]
          },
          "metadata": {
            "tags": []
          },
          "execution_count": 6
        }
      ]
    },
    {
      "cell_type": "code",
      "metadata": {
        "id": "gmp8StSY4Y_t",
        "colab_type": "code",
        "colab": {}
      },
      "source": [
        "col = ['tags', 'slug']\n",
        "\n",
        "post = post.drop(post[col], axis=1)"
      ],
      "execution_count": 0,
      "outputs": []
    },
    {
      "cell_type": "code",
      "metadata": {
        "id": "TP7R_yEf4xfQ",
        "colab_type": "code",
        "outputId": "d8b506f0-9557-48e1-8595-5b1f5ff19c64",
        "colab": {
          "base_uri": "https://localhost:8080/",
          "height": 289
        }
      },
      "source": [
        "post.head()"
      ],
      "execution_count": 8,
      "outputs": [
        {
          "output_type": "execute_result",
          "data": {
            "text/html": [
              "<div>\n",
              "<style scoped>\n",
              "    .dataframe tbody tr th:only-of-type {\n",
              "        vertical-align: middle;\n",
              "    }\n",
              "\n",
              "    .dataframe tbody tr th {\n",
              "        vertical-align: top;\n",
              "    }\n",
              "\n",
              "    .dataframe thead th {\n",
              "        text-align: right;\n",
              "    }\n",
              "</style>\n",
              "<table border=\"1\" class=\"dataframe\">\n",
              "  <thead>\n",
              "    <tr style=\"text-align: right;\">\n",
              "      <th></th>\n",
              "      <th>user_id</th>\n",
              "      <th>title</th>\n",
              "      <th>content</th>\n",
              "    </tr>\n",
              "  </thead>\n",
              "  <tbody>\n",
              "    <tr>\n",
              "      <th>0</th>\n",
              "      <td>2077</td>\n",
              "      <td>What i have learnt so far on HTML</td>\n",
              "      <td>I learnt how to use the table tag as i have us...</td>\n",
              "    </tr>\n",
              "    <tr>\n",
              "      <th>1</th>\n",
              "      <td>1719</td>\n",
              "      <td>HTML BEGINS HERE</td>\n",
              "      <td>I am on this journey with start.ng, and here ...</td>\n",
              "    </tr>\n",
              "    <tr>\n",
              "      <th>2</th>\n",
              "      <td>1310</td>\n",
              "      <td>My Laziness In The Open</td>\n",
              "      <td>I have not been attending classes on the HNG c...</td>\n",
              "    </tr>\n",
              "    <tr>\n",
              "      <th>3</th>\n",
              "      <td>1787</td>\n",
              "      <td>MY TASK 2</td>\n",
              "      <td>My journey on **StartNG** pre-internship progr...</td>\n",
              "    </tr>\n",
              "    <tr>\n",
              "      <th>4</th>\n",
              "      <td>167</td>\n",
              "      <td>Task 2</td>\n",
              "      <td>A Summary on The “idongesit.html” CV, Its Str...</td>\n",
              "    </tr>\n",
              "  </tbody>\n",
              "</table>\n",
              "</div>"
            ],
            "text/plain": [
              "   user_id  ...                                            content\n",
              "0     2077  ...  I learnt how to use the table tag as i have us...\n",
              "1     1719  ...   I am on this journey with start.ng, and here ...\n",
              "2     1310  ...  I have not been attending classes on the HNG c...\n",
              "3     1787  ...  My journey on **StartNG** pre-internship progr...\n",
              "4      167  ...   A Summary on The “idongesit.html” CV, Its Str...\n",
              "\n",
              "[5 rows x 3 columns]"
            ]
          },
          "metadata": {
            "tags": []
          },
          "execution_count": 8
        }
      ]
    },
    {
      "cell_type": "code",
      "metadata": {
        "id": "EhSlKBfW621d",
        "colab_type": "code",
        "outputId": "2e179f9d-6217-41a1-c406-c890615c6640",
        "colab": {
          "base_uri": "https://localhost:8080/",
          "height": 204
        }
      },
      "source": [
        "ratings.head()"
      ],
      "execution_count": 9,
      "outputs": [
        {
          "output_type": "execute_result",
          "data": {
            "text/html": [
              "<div>\n",
              "<style scoped>\n",
              "    .dataframe tbody tr th:only-of-type {\n",
              "        vertical-align: middle;\n",
              "    }\n",
              "\n",
              "    .dataframe tbody tr th {\n",
              "        vertical-align: top;\n",
              "    }\n",
              "\n",
              "    .dataframe thead th {\n",
              "        text-align: right;\n",
              "    }\n",
              "</style>\n",
              "<table border=\"1\" class=\"dataframe\">\n",
              "  <thead>\n",
              "    <tr style=\"text-align: right;\">\n",
              "      <th></th>\n",
              "      <th>user_id</th>\n",
              "      <th>post_id</th>\n",
              "      <th>Ratings</th>\n",
              "    </tr>\n",
              "  </thead>\n",
              "  <tbody>\n",
              "    <tr>\n",
              "      <th>0</th>\n",
              "      <td>1</td>\n",
              "      <td>995</td>\n",
              "      <td>5</td>\n",
              "    </tr>\n",
              "    <tr>\n",
              "      <th>1</th>\n",
              "      <td>1</td>\n",
              "      <td>355</td>\n",
              "      <td>3</td>\n",
              "    </tr>\n",
              "    <tr>\n",
              "      <th>2</th>\n",
              "      <td>1</td>\n",
              "      <td>996</td>\n",
              "      <td>4</td>\n",
              "    </tr>\n",
              "    <tr>\n",
              "      <th>3</th>\n",
              "      <td>1</td>\n",
              "      <td>996</td>\n",
              "      <td>5</td>\n",
              "    </tr>\n",
              "    <tr>\n",
              "      <th>4</th>\n",
              "      <td>1</td>\n",
              "      <td>996</td>\n",
              "      <td>4</td>\n",
              "    </tr>\n",
              "  </tbody>\n",
              "</table>\n",
              "</div>"
            ],
            "text/plain": [
              "   user_id  post_id  Ratings\n",
              "0        1      995        5\n",
              "1        1      355        3\n",
              "2        1      996        4\n",
              "3        1      996        5\n",
              "4        1      996        4"
            ]
          },
          "metadata": {
            "tags": []
          },
          "execution_count": 9
        }
      ]
    },
    {
      "cell_type": "code",
      "metadata": {
        "id": "R5L1f-Lo_lC4",
        "colab_type": "code",
        "colab": {}
      },
      "source": [
        "#n_users = merge_col.user_id.unique().shape[0]\n",
        "#n_posts = merge_col.post_id.unique().shape[0]\n",
        "#print(n_users)\n",
        "#print(n_posts)"
      ],
      "execution_count": 0,
      "outputs": []
    },
    {
      "cell_type": "code",
      "metadata": {
        "id": "oAHEVfh67avI",
        "colab_type": "code",
        "outputId": "54e9820d-f098-4302-9876-cb982bcd4eb5",
        "colab": {
          "base_uri": "https://localhost:8080/",
          "height": 289
        }
      },
      "source": [
        "merge_col = pd.merge(post, ratings, on='user_id')\n",
        "\n",
        "\n",
        "merge_col.head()"
      ],
      "execution_count": 10,
      "outputs": [
        {
          "output_type": "execute_result",
          "data": {
            "text/html": [
              "<div>\n",
              "<style scoped>\n",
              "    .dataframe tbody tr th:only-of-type {\n",
              "        vertical-align: middle;\n",
              "    }\n",
              "\n",
              "    .dataframe tbody tr th {\n",
              "        vertical-align: top;\n",
              "    }\n",
              "\n",
              "    .dataframe thead th {\n",
              "        text-align: right;\n",
              "    }\n",
              "</style>\n",
              "<table border=\"1\" class=\"dataframe\">\n",
              "  <thead>\n",
              "    <tr style=\"text-align: right;\">\n",
              "      <th></th>\n",
              "      <th>user_id</th>\n",
              "      <th>title</th>\n",
              "      <th>content</th>\n",
              "      <th>post_id</th>\n",
              "      <th>Ratings</th>\n",
              "    </tr>\n",
              "  </thead>\n",
              "  <tbody>\n",
              "    <tr>\n",
              "      <th>0</th>\n",
              "      <td>2191</td>\n",
              "      <td>What you have learned so far</td>\n",
              "      <td>1.  I have learnt how to publish and article, ...</td>\n",
              "      <td>143</td>\n",
              "      <td>3</td>\n",
              "    </tr>\n",
              "    <tr>\n",
              "      <th>1</th>\n",
              "      <td>2191</td>\n",
              "      <td>What you wish to still learn</td>\n",
              "      <td>1.  I want more insight on clodinary and so on</td>\n",
              "      <td>143</td>\n",
              "      <td>3</td>\n",
              "    </tr>\n",
              "    <tr>\n",
              "      <th>2</th>\n",
              "      <td>2191</td>\n",
              "      <td>What you wish should be improved</td>\n",
              "      <td>1.  For now am OK with the setting</td>\n",
              "      <td>143</td>\n",
              "      <td>3</td>\n",
              "    </tr>\n",
              "    <tr>\n",
              "      <th>3</th>\n",
              "      <td>4</td>\n",
              "      <td>Good Afternoon People</td>\n",
              "      <td>Hey</td>\n",
              "      <td>999</td>\n",
              "      <td>4</td>\n",
              "    </tr>\n",
              "    <tr>\n",
              "      <th>4</th>\n",
              "      <td>4</td>\n",
              "      <td>Good Afternoon People</td>\n",
              "      <td>Hey</td>\n",
              "      <td>278</td>\n",
              "      <td>3</td>\n",
              "    </tr>\n",
              "  </tbody>\n",
              "</table>\n",
              "</div>"
            ],
            "text/plain": [
              "   user_id                             title  ... post_id  Ratings\n",
              "0     2191      What you have learned so far  ...     143        3\n",
              "1     2191      What you wish to still learn  ...     143        3\n",
              "2     2191  What you wish should be improved  ...     143        3\n",
              "3        4             Good Afternoon People  ...     999        4\n",
              "4        4             Good Afternoon People  ...     278        3\n",
              "\n",
              "[5 rows x 5 columns]"
            ]
          },
          "metadata": {
            "tags": []
          },
          "execution_count": 10
        }
      ]
    },
    {
      "cell_type": "code",
      "metadata": {
        "id": "cFLrfE958XPZ",
        "colab_type": "code",
        "outputId": "8e6d2443-84f1-448e-8b18-9232e54ee4f8",
        "colab": {
          "base_uri": "https://localhost:8080/",
          "height": 34
        }
      },
      "source": [
        "#number of unique users\n",
        "n_users = post['user_id'].unique() ; print(\"number of unique users\" , len(n_users))"
      ],
      "execution_count": 11,
      "outputs": [
        {
          "output_type": "stream",
          "text": [
            "number of unique users 308\n"
          ],
          "name": "stdout"
        }
      ]
    },
    {
      "cell_type": "code",
      "metadata": {
        "id": "KNQHtmBR9url",
        "colab_type": "code",
        "outputId": "e6fa8dcd-80e9-4224-89b8-4493cafb0a48",
        "colab": {
          "base_uri": "https://localhost:8080/",
          "height": 34
        }
      },
      "source": [
        "#number of unquie posts\n",
        "n_posts = post['title'].unique() ; print(\"Number of unique posts\" , len(n_posts))"
      ],
      "execution_count": 12,
      "outputs": [
        {
          "output_type": "stream",
          "text": [
            "Number of unique posts 658\n"
          ],
          "name": "stdout"
        }
      ]
    },
    {
      "cell_type": "code",
      "metadata": {
        "id": "xWEAatCZ-ezO",
        "colab_type": "code",
        "colab": {}
      },
      "source": [
        "merge_col.to_csv('merged_data.csv')"
      ],
      "execution_count": 0,
      "outputs": []
    },
    {
      "cell_type": "code",
      "metadata": {
        "id": "umDrvADrLYAP",
        "colab_type": "code",
        "colab": {}
      },
      "source": [
        "merged_data = pd.read_csv('merged_data.csv')"
      ],
      "execution_count": 0,
      "outputs": []
    },
    {
      "cell_type": "code",
      "metadata": {
        "id": "AadCle_XMMcc",
        "colab_type": "code",
        "outputId": "9db1f57d-ac70-4b8a-8514-105073fb6a43",
        "colab": {
          "base_uri": "https://localhost:8080/",
          "height": 289
        }
      },
      "source": [
        "merged_data.head()"
      ],
      "execution_count": 14,
      "outputs": [
        {
          "output_type": "execute_result",
          "data": {
            "text/html": [
              "<div>\n",
              "<style scoped>\n",
              "    .dataframe tbody tr th:only-of-type {\n",
              "        vertical-align: middle;\n",
              "    }\n",
              "\n",
              "    .dataframe tbody tr th {\n",
              "        vertical-align: top;\n",
              "    }\n",
              "\n",
              "    .dataframe thead th {\n",
              "        text-align: right;\n",
              "    }\n",
              "</style>\n",
              "<table border=\"1\" class=\"dataframe\">\n",
              "  <thead>\n",
              "    <tr style=\"text-align: right;\">\n",
              "      <th></th>\n",
              "      <th>user_id</th>\n",
              "      <th>title</th>\n",
              "      <th>content</th>\n",
              "      <th>post_id</th>\n",
              "      <th>Ratings</th>\n",
              "    </tr>\n",
              "  </thead>\n",
              "  <tbody>\n",
              "    <tr>\n",
              "      <th>0</th>\n",
              "      <td>2191</td>\n",
              "      <td>What you have learned so far</td>\n",
              "      <td>1.  I have learnt how to publish and article, ...</td>\n",
              "      <td>143</td>\n",
              "      <td>3</td>\n",
              "    </tr>\n",
              "    <tr>\n",
              "      <th>1</th>\n",
              "      <td>2191</td>\n",
              "      <td>What you wish to still learn</td>\n",
              "      <td>1.  I want more insight on clodinary and so on</td>\n",
              "      <td>143</td>\n",
              "      <td>3</td>\n",
              "    </tr>\n",
              "    <tr>\n",
              "      <th>2</th>\n",
              "      <td>2191</td>\n",
              "      <td>What you wish should be improved</td>\n",
              "      <td>1.  For now am OK with the setting</td>\n",
              "      <td>143</td>\n",
              "      <td>3</td>\n",
              "    </tr>\n",
              "    <tr>\n",
              "      <th>3</th>\n",
              "      <td>4</td>\n",
              "      <td>Good Afternoon People</td>\n",
              "      <td>Hey</td>\n",
              "      <td>999</td>\n",
              "      <td>4</td>\n",
              "    </tr>\n",
              "    <tr>\n",
              "      <th>4</th>\n",
              "      <td>4</td>\n",
              "      <td>Good Afternoon People</td>\n",
              "      <td>Hey</td>\n",
              "      <td>278</td>\n",
              "      <td>3</td>\n",
              "    </tr>\n",
              "  </tbody>\n",
              "</table>\n",
              "</div>"
            ],
            "text/plain": [
              "   user_id                             title  ... post_id  Ratings\n",
              "0     2191      What you have learned so far  ...     143        3\n",
              "1     2191      What you wish to still learn  ...     143        3\n",
              "2     2191  What you wish should be improved  ...     143        3\n",
              "3        4             Good Afternoon People  ...     999        4\n",
              "4        4             Good Afternoon People  ...     278        3\n",
              "\n",
              "[5 rows x 5 columns]"
            ]
          },
          "metadata": {
            "tags": []
          },
          "execution_count": 14
        }
      ]
    },
    {
      "cell_type": "code",
      "metadata": {
        "id": "2XdLvY5SBeo1",
        "colab_type": "code",
        "outputId": "17ca5070-1278-451c-d745-d975dff2c81d",
        "colab": {
          "base_uri": "https://localhost:8080/",
          "height": 224
        }
      },
      "source": [
        "data = tc.SFrame.read_csv('merged_data.csv')"
      ],
      "execution_count": 15,
      "outputs": [
        {
          "output_type": "display_data",
          "data": {
            "text/html": [
              "<pre>Finished parsing file /gdrive/My Drive/hngi6/Recommendation_system/merged_data.csv</pre>"
            ],
            "text/plain": [
              "Finished parsing file /gdrive/My Drive/hngi6/Recommendation_system/merged_data.csv"
            ]
          },
          "metadata": {
            "tags": []
          }
        },
        {
          "output_type": "display_data",
          "data": {
            "text/html": [
              "<pre>Parsing completed. Parsed 100 lines in 0.053916 secs.</pre>"
            ],
            "text/plain": [
              "Parsing completed. Parsed 100 lines in 0.053916 secs."
            ]
          },
          "metadata": {
            "tags": []
          }
        },
        {
          "output_type": "stream",
          "text": [
            "------------------------------------------------------\n",
            "Inferred types from first 100 line(s) of file as \n",
            "column_type_hints=[int,str,str,int,int]\n",
            "If parsing fails due to incorrect types, you can correct\n",
            "the inferred type list above and pass it to read_csv in\n",
            "the column_type_hints argument\n",
            "------------------------------------------------------\n"
          ],
          "name": "stdout"
        },
        {
          "output_type": "display_data",
          "data": {
            "text/html": [
              "<pre>Finished parsing file /gdrive/My Drive/hngi6/Recommendation_system/merged_data.csv</pre>"
            ],
            "text/plain": [
              "Finished parsing file /gdrive/My Drive/hngi6/Recommendation_system/merged_data.csv"
            ]
          },
          "metadata": {
            "tags": []
          }
        },
        {
          "output_type": "display_data",
          "data": {
            "text/html": [
              "<pre>Parsing completed. Parsed 622 lines in 0.025903 secs.</pre>"
            ],
            "text/plain": [
              "Parsing completed. Parsed 622 lines in 0.025903 secs."
            ]
          },
          "metadata": {
            "tags": []
          }
        }
      ]
    },
    {
      "cell_type": "markdown",
      "metadata": {
        "id": "t-zTxazANGqu",
        "colab_type": "text"
      },
      "source": [
        "**Building The Model**"
      ]
    },
    {
      "cell_type": "code",
      "metadata": {
        "id": "emONtmZnKvpH",
        "colab_type": "code",
        "colab": {}
      },
      "source": [
        "#using the ranking factorization \n",
        "train_data, validation_data = tc.recommender.util.random_split_by_user(data, 'user_id', 'title')"
      ],
      "execution_count": 0,
      "outputs": []
    },
    {
      "cell_type": "code",
      "metadata": {
        "id": "fY5cZE5pNjdL",
        "colab_type": "code",
        "outputId": "eba94998-b06a-4e6b-8cc8-336e05c93383",
        "colab": {
          "base_uri": "https://localhost:8080/",
          "height": 853
        }
      },
      "source": [
        "ranking_model = tc.ranking_factorization_recommender.create(train_data, user_id ='user_id', item_id ='title',target = 'Ratings')"
      ],
      "execution_count": 17,
      "outputs": [
        {
          "output_type": "display_data",
          "data": {
            "text/html": [
              "<pre>Preparing data set.</pre>"
            ],
            "text/plain": [
              "Preparing data set."
            ]
          },
          "metadata": {
            "tags": []
          }
        },
        {
          "output_type": "display_data",
          "data": {
            "text/html": [
              "<pre>    Data has 505 observations with 8 users and 45 items.</pre>"
            ],
            "text/plain": [
              "    Data has 505 observations with 8 users and 45 items."
            ]
          },
          "metadata": {
            "tags": []
          }
        },
        {
          "output_type": "display_data",
          "data": {
            "text/html": [
              "<pre>    Data prepared in: 0.016916s</pre>"
            ],
            "text/plain": [
              "    Data prepared in: 0.016916s"
            ]
          },
          "metadata": {
            "tags": []
          }
        },
        {
          "output_type": "display_data",
          "data": {
            "text/html": [
              "<pre>Training ranking_factorization_recommender for recommendations.</pre>"
            ],
            "text/plain": [
              "Training ranking_factorization_recommender for recommendations."
            ]
          },
          "metadata": {
            "tags": []
          }
        },
        {
          "output_type": "display_data",
          "data": {
            "text/html": [
              "<pre>+--------------------------------+--------------------------------------------------+----------+</pre>"
            ],
            "text/plain": [
              "+--------------------------------+--------------------------------------------------+----------+"
            ]
          },
          "metadata": {
            "tags": []
          }
        },
        {
          "output_type": "display_data",
          "data": {
            "text/html": [
              "<pre>| Parameter                      | Description                                      | Value    |</pre>"
            ],
            "text/plain": [
              "| Parameter                      | Description                                      | Value    |"
            ]
          },
          "metadata": {
            "tags": []
          }
        },
        {
          "output_type": "display_data",
          "data": {
            "text/html": [
              "<pre>+--------------------------------+--------------------------------------------------+----------+</pre>"
            ],
            "text/plain": [
              "+--------------------------------+--------------------------------------------------+----------+"
            ]
          },
          "metadata": {
            "tags": []
          }
        },
        {
          "output_type": "display_data",
          "data": {
            "text/html": [
              "<pre>| num_factors                    | Factor Dimension                                 | 32       |</pre>"
            ],
            "text/plain": [
              "| num_factors                    | Factor Dimension                                 | 32       |"
            ]
          },
          "metadata": {
            "tags": []
          }
        },
        {
          "output_type": "display_data",
          "data": {
            "text/html": [
              "<pre>| regularization                 | L2 Regularization on Factors                     | 1e-09    |</pre>"
            ],
            "text/plain": [
              "| regularization                 | L2 Regularization on Factors                     | 1e-09    |"
            ]
          },
          "metadata": {
            "tags": []
          }
        },
        {
          "output_type": "display_data",
          "data": {
            "text/html": [
              "<pre>| solver                         | Solver used for training                         | adagrad  |</pre>"
            ],
            "text/plain": [
              "| solver                         | Solver used for training                         | adagrad  |"
            ]
          },
          "metadata": {
            "tags": []
          }
        },
        {
          "output_type": "display_data",
          "data": {
            "text/html": [
              "<pre>| linear_regularization          | L2 Regularization on Linear Coefficients         | 1e-09    |</pre>"
            ],
            "text/plain": [
              "| linear_regularization          | L2 Regularization on Linear Coefficients         | 1e-09    |"
            ]
          },
          "metadata": {
            "tags": []
          }
        },
        {
          "output_type": "display_data",
          "data": {
            "text/html": [
              "<pre>| ranking_regularization         | Rank-based Regularization Weight                 | 0.25     |</pre>"
            ],
            "text/plain": [
              "| ranking_regularization         | Rank-based Regularization Weight                 | 0.25     |"
            ]
          },
          "metadata": {
            "tags": []
          }
        },
        {
          "output_type": "display_data",
          "data": {
            "text/html": [
              "<pre>| max_iterations                 | Maximum Number of Iterations                     | 25       |</pre>"
            ],
            "text/plain": [
              "| max_iterations                 | Maximum Number of Iterations                     | 25       |"
            ]
          },
          "metadata": {
            "tags": []
          }
        },
        {
          "output_type": "display_data",
          "data": {
            "text/html": [
              "<pre>+--------------------------------+--------------------------------------------------+----------+</pre>"
            ],
            "text/plain": [
              "+--------------------------------+--------------------------------------------------+----------+"
            ]
          },
          "metadata": {
            "tags": []
          }
        },
        {
          "output_type": "display_data",
          "data": {
            "text/html": [
              "<pre>  Optimizing model using SGD; tuning step size.</pre>"
            ],
            "text/plain": [
              "  Optimizing model using SGD; tuning step size."
            ]
          },
          "metadata": {
            "tags": []
          }
        },
        {
          "output_type": "display_data",
          "data": {
            "text/html": [
              "<pre>  Using 505 / 505 points for tuning the step size.</pre>"
            ],
            "text/plain": [
              "  Using 505 / 505 points for tuning the step size."
            ]
          },
          "metadata": {
            "tags": []
          }
        },
        {
          "output_type": "display_data",
          "data": {
            "text/html": [
              "<pre>+---------+-------------------+------------------------------------------+</pre>"
            ],
            "text/plain": [
              "+---------+-------------------+------------------------------------------+"
            ]
          },
          "metadata": {
            "tags": []
          }
        },
        {
          "output_type": "display_data",
          "data": {
            "text/html": [
              "<pre>| Attempt | Initial Step Size | Estimated Objective Value                |</pre>"
            ],
            "text/plain": [
              "| Attempt | Initial Step Size | Estimated Objective Value                |"
            ]
          },
          "metadata": {
            "tags": []
          }
        },
        {
          "output_type": "display_data",
          "data": {
            "text/html": [
              "<pre>+---------+-------------------+------------------------------------------+</pre>"
            ],
            "text/plain": [
              "+---------+-------------------+------------------------------------------+"
            ]
          },
          "metadata": {
            "tags": []
          }
        },
        {
          "output_type": "display_data",
          "data": {
            "text/html": [
              "<pre>| 0       | 12.5              | Not Viable                               |</pre>"
            ],
            "text/plain": [
              "| 0       | 12.5              | Not Viable                               |"
            ]
          },
          "metadata": {
            "tags": []
          }
        },
        {
          "output_type": "display_data",
          "data": {
            "text/html": [
              "<pre>| 1       | 3.125             | Not Viable                               |</pre>"
            ],
            "text/plain": [
              "| 1       | 3.125             | Not Viable                               |"
            ]
          },
          "metadata": {
            "tags": []
          }
        },
        {
          "output_type": "display_data",
          "data": {
            "text/html": [
              "<pre>| 2       | 0.78125           | Not Viable                               |</pre>"
            ],
            "text/plain": [
              "| 2       | 0.78125           | Not Viable                               |"
            ]
          },
          "metadata": {
            "tags": []
          }
        },
        {
          "output_type": "display_data",
          "data": {
            "text/html": [
              "<pre>| 3       | 0.195312          | Not Viable                               |</pre>"
            ],
            "text/plain": [
              "| 3       | 0.195312          | Not Viable                               |"
            ]
          },
          "metadata": {
            "tags": []
          }
        },
        {
          "output_type": "display_data",
          "data": {
            "text/html": [
              "<pre>| 4       | 0.0488281         | 1.06227                                  |</pre>"
            ],
            "text/plain": [
              "| 4       | 0.0488281         | 1.06227                                  |"
            ]
          },
          "metadata": {
            "tags": []
          }
        },
        {
          "output_type": "display_data",
          "data": {
            "text/html": [
              "<pre>| 5       | 0.0244141         | 1.11084                                  |</pre>"
            ],
            "text/plain": [
              "| 5       | 0.0244141         | 1.11084                                  |"
            ]
          },
          "metadata": {
            "tags": []
          }
        },
        {
          "output_type": "display_data",
          "data": {
            "text/html": [
              "<pre>| 6       | 0.012207          | 1.11994                                  |</pre>"
            ],
            "text/plain": [
              "| 6       | 0.012207          | 1.11994                                  |"
            ]
          },
          "metadata": {
            "tags": []
          }
        },
        {
          "output_type": "display_data",
          "data": {
            "text/html": [
              "<pre>| 7       | 0.00610352        | 1.18139                                  |</pre>"
            ],
            "text/plain": [
              "| 7       | 0.00610352        | 1.18139                                  |"
            ]
          },
          "metadata": {
            "tags": []
          }
        },
        {
          "output_type": "display_data",
          "data": {
            "text/html": [
              "<pre>+---------+-------------------+------------------------------------------+</pre>"
            ],
            "text/plain": [
              "+---------+-------------------+------------------------------------------+"
            ]
          },
          "metadata": {
            "tags": []
          }
        },
        {
          "output_type": "display_data",
          "data": {
            "text/html": [
              "<pre>| Final   | 0.0488281         | 1.06227                                  |</pre>"
            ],
            "text/plain": [
              "| Final   | 0.0488281         | 1.06227                                  |"
            ]
          },
          "metadata": {
            "tags": []
          }
        },
        {
          "output_type": "display_data",
          "data": {
            "text/html": [
              "<pre>+---------+-------------------+------------------------------------------+</pre>"
            ],
            "text/plain": [
              "+---------+-------------------+------------------------------------------+"
            ]
          },
          "metadata": {
            "tags": []
          }
        },
        {
          "output_type": "display_data",
          "data": {
            "text/html": [
              "<pre>Starting Optimization.</pre>"
            ],
            "text/plain": [
              "Starting Optimization."
            ]
          },
          "metadata": {
            "tags": []
          }
        },
        {
          "output_type": "display_data",
          "data": {
            "text/html": [
              "<pre>+---------+--------------+-------------------+-----------------------+-------------+</pre>"
            ],
            "text/plain": [
              "+---------+--------------+-------------------+-----------------------+-------------+"
            ]
          },
          "metadata": {
            "tags": []
          }
        },
        {
          "output_type": "display_data",
          "data": {
            "text/html": [
              "<pre>| Iter.   | Elapsed Time | Approx. Objective | Approx. Training RMSE | Step Size   |</pre>"
            ],
            "text/plain": [
              "| Iter.   | Elapsed Time | Approx. Objective | Approx. Training RMSE | Step Size   |"
            ]
          },
          "metadata": {
            "tags": []
          }
        },
        {
          "output_type": "display_data",
          "data": {
            "text/html": [
              "<pre>+---------+--------------+-------------------+-----------------------+-------------+</pre>"
            ],
            "text/plain": [
              "+---------+--------------+-------------------+-----------------------+-------------+"
            ]
          },
          "metadata": {
            "tags": []
          }
        },
        {
          "output_type": "display_data",
          "data": {
            "text/html": [
              "<pre>| Initial | 95us         | 1.36524           | 0.833881              |             |</pre>"
            ],
            "text/plain": [
              "| Initial | 95us         | 1.36524           | 0.833881              |             |"
            ]
          },
          "metadata": {
            "tags": []
          }
        },
        {
          "output_type": "display_data",
          "data": {
            "text/html": [
              "<pre>+---------+--------------+-------------------+-----------------------+-------------+</pre>"
            ],
            "text/plain": [
              "+---------+--------------+-------------------+-----------------------+-------------+"
            ]
          },
          "metadata": {
            "tags": []
          }
        },
        {
          "output_type": "display_data",
          "data": {
            "text/html": [
              "<pre>| 1       | 4.18ms       | 0.940366          | 0.879196              | 0.0488281   |</pre>"
            ],
            "text/plain": [
              "| 1       | 4.18ms       | 0.940366          | 0.879196              | 0.0488281   |"
            ]
          },
          "metadata": {
            "tags": []
          }
        },
        {
          "output_type": "display_data",
          "data": {
            "text/html": [
              "<pre>| 2       | 6.848ms      | 0.669372          | 0.738078              | 0.0488281   |</pre>"
            ],
            "text/plain": [
              "| 2       | 6.848ms      | 0.669372          | 0.738078              | 0.0488281   |"
            ]
          },
          "metadata": {
            "tags": []
          }
        },
        {
          "output_type": "display_data",
          "data": {
            "text/html": [
              "<pre>| 3       | 11.442ms     | 0.626394          | 0.721689              | 0.0488281   |</pre>"
            ],
            "text/plain": [
              "| 3       | 11.442ms     | 0.626394          | 0.721689              | 0.0488281   |"
            ]
          },
          "metadata": {
            "tags": []
          }
        },
        {
          "output_type": "display_data",
          "data": {
            "text/html": [
              "<pre>| 4       | 18.13ms      | 0.596823          | 0.700914              | 0.0488281   |</pre>"
            ],
            "text/plain": [
              "| 4       | 18.13ms      | 0.596823          | 0.700914              | 0.0488281   |"
            ]
          },
          "metadata": {
            "tags": []
          }
        },
        {
          "output_type": "display_data",
          "data": {
            "text/html": [
              "<pre>| 5       | 21.374ms     | 0.586768          | 0.6936                | 0.0488281   |</pre>"
            ],
            "text/plain": [
              "| 5       | 21.374ms     | 0.586768          | 0.6936                | 0.0488281   |"
            ]
          },
          "metadata": {
            "tags": []
          }
        },
        {
          "output_type": "display_data",
          "data": {
            "text/html": [
              "<pre>| 10      | 47.489ms     | 0.55425           | 0.6828                | 0.0488281   |</pre>"
            ],
            "text/plain": [
              "| 10      | 47.489ms     | 0.55425           | 0.6828                | 0.0488281   |"
            ]
          },
          "metadata": {
            "tags": []
          }
        },
        {
          "output_type": "display_data",
          "data": {
            "text/html": [
              "<pre>| 25      | 91.01ms      | 0.517477          | 0.672122              | 0.0488281   |</pre>"
            ],
            "text/plain": [
              "| 25      | 91.01ms      | 0.517477          | 0.672122              | 0.0488281   |"
            ]
          },
          "metadata": {
            "tags": []
          }
        },
        {
          "output_type": "display_data",
          "data": {
            "text/html": [
              "<pre>+---------+--------------+-------------------+-----------------------+-------------+</pre>"
            ],
            "text/plain": [
              "+---------+--------------+-------------------+-----------------------+-------------+"
            ]
          },
          "metadata": {
            "tags": []
          }
        },
        {
          "output_type": "display_data",
          "data": {
            "text/html": [
              "<pre>Optimization Complete: Maximum number of passes through the data reached.</pre>"
            ],
            "text/plain": [
              "Optimization Complete: Maximum number of passes through the data reached."
            ]
          },
          "metadata": {
            "tags": []
          }
        },
        {
          "output_type": "display_data",
          "data": {
            "text/html": [
              "<pre>Computing final objective value and training RMSE.</pre>"
            ],
            "text/plain": [
              "Computing final objective value and training RMSE."
            ]
          },
          "metadata": {
            "tags": []
          }
        },
        {
          "output_type": "display_data",
          "data": {
            "text/html": [
              "<pre>       Final objective value: 1.21436</pre>"
            ],
            "text/plain": [
              "       Final objective value: 1.21436"
            ]
          },
          "metadata": {
            "tags": []
          }
        },
        {
          "output_type": "display_data",
          "data": {
            "text/html": [
              "<pre>       Final training RMSE: 0.656457</pre>"
            ],
            "text/plain": [
              "       Final training RMSE: 0.656457"
            ]
          },
          "metadata": {
            "tags": []
          }
        }
      ]
    },
    {
      "cell_type": "code",
      "metadata": {
        "id": "0-3PNbb8OsT7",
        "colab_type": "code",
        "outputId": "27f811bb-b3d0-4871-ebc7-d47e655aaa3f",
        "colab": {
          "base_uri": "https://localhost:8080/",
          "height": 428
        }
      },
      "source": [
        "#Building item similarity using Cosine similarity\n",
        "item_sim_model = tc.item_similarity_recommender.create(train_data, user_id='user_id', item_id='content', target='Ratings', similarity_type='cosine')"
      ],
      "execution_count": 18,
      "outputs": [
        {
          "output_type": "display_data",
          "data": {
            "text/html": [
              "<pre>Warning: Ignoring columns title, post_id;</pre>"
            ],
            "text/plain": [
              "Warning: Ignoring columns title, post_id;"
            ]
          },
          "metadata": {
            "tags": []
          }
        },
        {
          "output_type": "display_data",
          "data": {
            "text/html": [
              "<pre>    To use these columns in scoring predictions, use a model that allows the use of additional features.</pre>"
            ],
            "text/plain": [
              "    To use these columns in scoring predictions, use a model that allows the use of additional features."
            ]
          },
          "metadata": {
            "tags": []
          }
        },
        {
          "output_type": "display_data",
          "data": {
            "text/html": [
              "<pre>Preparing data set.</pre>"
            ],
            "text/plain": [
              "Preparing data set."
            ]
          },
          "metadata": {
            "tags": []
          }
        },
        {
          "output_type": "display_data",
          "data": {
            "text/html": [
              "<pre>    Data has 505 observations with 8 users and 51 items.</pre>"
            ],
            "text/plain": [
              "    Data has 505 observations with 8 users and 51 items."
            ]
          },
          "metadata": {
            "tags": []
          }
        },
        {
          "output_type": "display_data",
          "data": {
            "text/html": [
              "<pre>    Data prepared in: 0.011631s</pre>"
            ],
            "text/plain": [
              "    Data prepared in: 0.011631s"
            ]
          },
          "metadata": {
            "tags": []
          }
        },
        {
          "output_type": "display_data",
          "data": {
            "text/html": [
              "<pre>Training model from provided data.</pre>"
            ],
            "text/plain": [
              "Training model from provided data."
            ]
          },
          "metadata": {
            "tags": []
          }
        },
        {
          "output_type": "display_data",
          "data": {
            "text/html": [
              "<pre>Gathering per-item and per-user statistics.</pre>"
            ],
            "text/plain": [
              "Gathering per-item and per-user statistics."
            ]
          },
          "metadata": {
            "tags": []
          }
        },
        {
          "output_type": "display_data",
          "data": {
            "text/html": [
              "<pre>+--------------------------------+------------+</pre>"
            ],
            "text/plain": [
              "+--------------------------------+------------+"
            ]
          },
          "metadata": {
            "tags": []
          }
        },
        {
          "output_type": "display_data",
          "data": {
            "text/html": [
              "<pre>| Elapsed Time (Item Statistics) | % Complete |</pre>"
            ],
            "text/plain": [
              "| Elapsed Time (Item Statistics) | % Complete |"
            ]
          },
          "metadata": {
            "tags": []
          }
        },
        {
          "output_type": "display_data",
          "data": {
            "text/html": [
              "<pre>+--------------------------------+------------+</pre>"
            ],
            "text/plain": [
              "+--------------------------------+------------+"
            ]
          },
          "metadata": {
            "tags": []
          }
        },
        {
          "output_type": "display_data",
          "data": {
            "text/html": [
              "<pre>| 4.932ms                        | 100        |</pre>"
            ],
            "text/plain": [
              "| 4.932ms                        | 100        |"
            ]
          },
          "metadata": {
            "tags": []
          }
        },
        {
          "output_type": "display_data",
          "data": {
            "text/html": [
              "<pre>+--------------------------------+------------+</pre>"
            ],
            "text/plain": [
              "+--------------------------------+------------+"
            ]
          },
          "metadata": {
            "tags": []
          }
        },
        {
          "output_type": "display_data",
          "data": {
            "text/html": [
              "<pre>Setting up lookup tables.</pre>"
            ],
            "text/plain": [
              "Setting up lookup tables."
            ]
          },
          "metadata": {
            "tags": []
          }
        },
        {
          "output_type": "display_data",
          "data": {
            "text/html": [
              "<pre>Processing data in one pass using dense lookup tables.</pre>"
            ],
            "text/plain": [
              "Processing data in one pass using dense lookup tables."
            ]
          },
          "metadata": {
            "tags": []
          }
        },
        {
          "output_type": "display_data",
          "data": {
            "text/html": [
              "<pre>+-------------------------------------+------------------+-----------------+</pre>"
            ],
            "text/plain": [
              "+-------------------------------------+------------------+-----------------+"
            ]
          },
          "metadata": {
            "tags": []
          }
        },
        {
          "output_type": "display_data",
          "data": {
            "text/html": [
              "<pre>| Elapsed Time (Constructing Lookups) | Total % Complete | Items Processed |</pre>"
            ],
            "text/plain": [
              "| Elapsed Time (Constructing Lookups) | Total % Complete | Items Processed |"
            ]
          },
          "metadata": {
            "tags": []
          }
        },
        {
          "output_type": "display_data",
          "data": {
            "text/html": [
              "<pre>+-------------------------------------+------------------+-----------------+</pre>"
            ],
            "text/plain": [
              "+-------------------------------------+------------------+-----------------+"
            ]
          },
          "metadata": {
            "tags": []
          }
        },
        {
          "output_type": "display_data",
          "data": {
            "text/html": [
              "<pre>| 8.968ms                             | 1.5              | 0               |</pre>"
            ],
            "text/plain": [
              "| 8.968ms                             | 1.5              | 0               |"
            ]
          },
          "metadata": {
            "tags": []
          }
        },
        {
          "output_type": "display_data",
          "data": {
            "text/html": [
              "<pre>| 10.593ms                            | 100              | 51              |</pre>"
            ],
            "text/plain": [
              "| 10.593ms                            | 100              | 51              |"
            ]
          },
          "metadata": {
            "tags": []
          }
        },
        {
          "output_type": "display_data",
          "data": {
            "text/html": [
              "<pre>+-------------------------------------+------------------+-----------------+</pre>"
            ],
            "text/plain": [
              "+-------------------------------------+------------------+-----------------+"
            ]
          },
          "metadata": {
            "tags": []
          }
        },
        {
          "output_type": "display_data",
          "data": {
            "text/html": [
              "<pre>Finalizing lookup tables.</pre>"
            ],
            "text/plain": [
              "Finalizing lookup tables."
            ]
          },
          "metadata": {
            "tags": []
          }
        },
        {
          "output_type": "display_data",
          "data": {
            "text/html": [
              "<pre>Generating candidate set for working with new users.</pre>"
            ],
            "text/plain": [
              "Generating candidate set for working with new users."
            ]
          },
          "metadata": {
            "tags": []
          }
        },
        {
          "output_type": "display_data",
          "data": {
            "text/html": [
              "<pre>Finished training in 0.013981s</pre>"
            ],
            "text/plain": [
              "Finished training in 0.013981s"
            ]
          },
          "metadata": {
            "tags": []
          }
        }
      ]
    },
    {
      "cell_type": "markdown",
      "metadata": {
        "id": "FeSKCCe4PVGL",
        "colab_type": "text"
      },
      "source": [
        "**Comparing The two trained models**"
      ]
    },
    {
      "cell_type": "code",
      "metadata": {
        "id": "8UPMRk3WPS7N",
        "colab_type": "code",
        "outputId": "9330b806-8870-4774-e939-9bbbd0a074b8",
        "colab": {
          "base_uri": "https://localhost:8080/",
          "height": 1000
        }
      },
      "source": [
        "tc.recommender.util.compare_models(validation_data, [ranking_model,item_sim_model], metric='rmse')"
      ],
      "execution_count": 19,
      "outputs": [
        {
          "output_type": "stream",
          "text": [
            "PROGRESS: Evaluate model M0\n",
            "\n",
            "Overall RMSE: 0.657356035251166\n",
            "\n",
            "Per User RMSE (best)\n",
            "+---------+---------------------+-------+\n",
            "| user_id |         rmse        | count |\n",
            "+---------+---------------------+-------+\n",
            "|    3    | 0.28295539606048997 |   43  |\n",
            "+---------+---------------------+-------+\n",
            "[1 rows x 3 columns]\n",
            "\n",
            "\n",
            "Per User RMSE (worst)\n",
            "+---------+--------------------+-------+\n",
            "| user_id |        rmse        | count |\n",
            "+---------+--------------------+-------+\n",
            "|    7    | 1.1262266322772791 |   7   |\n",
            "+---------+--------------------+-------+\n",
            "[1 rows x 3 columns]\n",
            "\n",
            "\n",
            "Per Item RMSE (best)\n",
            "+---------------+----------------------+-------+\n",
            "|     title     |         rmse         | count |\n",
            "+---------------+----------------------+-------+\n",
            "| Lucid is live | 0.014625649493548387 |   1   |\n",
            "+---------------+----------------------+-------+\n",
            "[1 rows x 3 columns]\n",
            "\n",
            "\n",
            "Per Item RMSE (worst)\n",
            "+-------------------------------+--------------------+-------+\n",
            "|             title             |        rmse        | count |\n",
            "+-------------------------------+--------------------+-------+\n",
            "| ARE YOU CAPABLE OF BEING R... | 1.3078329001293199 |   2   |\n",
            "+-------------------------------+--------------------+-------+\n",
            "[1 rows x 3 columns]\n",
            "\n",
            "PROGRESS: Evaluate model M1\n",
            "\n",
            "Overall RMSE: 0.6879155743346752\n",
            "\n",
            "Per User RMSE (best)\n",
            "+---------+---------------------+-------+\n",
            "| user_id |         rmse        | count |\n",
            "+---------+---------------------+-------+\n",
            "|    3    | 0.27835278621501197 |   43  |\n",
            "+---------+---------------------+-------+\n",
            "[1 rows x 3 columns]\n",
            "\n",
            "\n",
            "Per User RMSE (worst)\n",
            "+---------+-------------------+-------+\n",
            "| user_id |        rmse       | count |\n",
            "+---------+-------------------+-------+\n",
            "|    1    | 1.446790634928486 |   2   |\n",
            "+---------+-------------------+-------+\n",
            "[1 rows x 3 columns]\n",
            "\n",
            "\n",
            "Per Item RMSE (best)\n",
            "+-------------------------------+--------------------+-------+\n",
            "|            content            |        rmse        | count |\n",
            "+-------------------------------+--------------------+-------+\n",
            "| <p>So we finally took luci... | 0.1369864472321103 |   1   |\n",
            "+-------------------------------+--------------------+-------+\n",
            "[1 rows x 3 columns]\n",
            "\n",
            "\n",
            "Per Item RMSE (worst)\n",
            "+-------------------------------+--------------------+-------+\n",
            "|            content            |        rmse        | count |\n",
            "+-------------------------------+--------------------+-------+\n",
            "| second![](/storage/1/image... | 1.8375000059604645 |   1   |\n",
            "+-------------------------------+--------------------+-------+\n",
            "[1 rows x 3 columns]\n",
            "\n"
          ],
          "name": "stdout"
        },
        {
          "output_type": "execute_result",
          "data": {
            "text/plain": [
              "[{'rmse_by_item': Columns:\n",
              "  \ttitle\tstr\n",
              "  \trmse\tfloat\n",
              "  \tcount\tint\n",
              "  \n",
              "  Rows: 29\n",
              "  \n",
              "  Data:\n",
              "  +------------------------------+----------------------+-------+\n",
              "  |            title             |         rmse         | count |\n",
              "  +------------------------------+----------------------+-------+\n",
              "  |        Lucid is live         | 0.014625649493548387 |   1   |\n",
              "  |    My Experience In HTML     | 0.47667321906811333  |   9   |\n",
              "  |       SHALLOW THINKING       |  0.7580275849179041  |   1   |\n",
              "  | My Internship Journey So Far |  0.3928105748493203  |   5   |\n",
              "  |      Took a long while       |  0.368085176022932   |   1   |\n",
              "  |     this is a test post      |  0.8428664999859138  |   7   |\n",
              "  |        Lucid is back         | 0.03805617209014323  |   3   |\n",
              "  |       Welcome to Lucid       |  0.6437860532281797  |   7   |\n",
              "  |             Test             | 0.19127186542042374  |   1   |\n",
              "  |    New features incoming     | 0.03658695637273433  |   4   |\n",
              "  +------------------------------+----------------------+-------+\n",
              "  [29 rows x 3 columns]\n",
              "  Note: Only the head of the SFrame is printed.\n",
              "  You can use print_rows(num_rows=m, num_columns=n) to print more rows and columns.,\n",
              "  'rmse_by_user': Columns:\n",
              "  \tuser_id\tint\n",
              "  \trmse\tfloat\n",
              "  \tcount\tint\n",
              "  \n",
              "  Rows: 4\n",
              "  \n",
              "  Data:\n",
              "  +---------+---------------------+-------+\n",
              "  | user_id |         rmse        | count |\n",
              "  +---------+---------------------+-------+\n",
              "  |    2    |  0.7564597682473018 |   65  |\n",
              "  |    7    |  1.1262266322772791 |   7   |\n",
              "  |    3    | 0.28295539606048997 |   43  |\n",
              "  |    1    |  0.7215253666294025 |   2   |\n",
              "  +---------+---------------------+-------+\n",
              "  [4 rows x 3 columns],\n",
              "  'rmse_overall': 0.657356035251166},\n",
              " {'rmse_by_item': Columns:\n",
              "  \tcontent\tstr\n",
              "  \trmse\tfloat\n",
              "  \tcount\tint\n",
              "  \n",
              "  Rows: 32\n",
              "  \n",
              "  Data:\n",
              "  +-------------------------------+--------------------+-------+\n",
              "  |            content            |        rmse        | count |\n",
              "  +-------------------------------+--------------------+-------+\n",
              "  |   <p>i need this to work</p>  | 0.9022808981579381 |   7   |\n",
              "  |     <p>I love this app</p>    | 0.9851133764215219 |   3   |\n",
              "  | <p>I was alone in the cent... | 1.1948617696762085 |   3   |\n",
              "  | It's quite easy to be good... | 0.6041666666666665 |   1   |\n",
              "  | <p>“Come to class, come to... | 0.1386347966534749 |   4   |\n",
              "  | \\`html\\`\\n\\n  \\n\\n\\`<!DOCT... | 0.7373283997000668 |   8   |\n",
              "  | <p>In 2004 I was in Brazil... | 0.6426312094538449 |   7   |\n",
              "  | <p><img src=\"/storage/jeff... | 0.1369864472321103 |   1   |\n",
              "  | We have taken time to work... | 0.1379854466233934 |   3   |\n",
              "  | <p>About time I made one.<... | 0.1386347966534749 |   4   |\n",
              "  +-------------------------------+--------------------+-------+\n",
              "  [32 rows x 3 columns]\n",
              "  Note: Only the head of the SFrame is printed.\n",
              "  You can use print_rows(num_rows=m, num_columns=n) to print more rows and columns.,\n",
              "  'rmse_by_user': Columns:\n",
              "  \tuser_id\tint\n",
              "  \trmse\tfloat\n",
              "  \tcount\tint\n",
              "  \n",
              "  Rows: 4\n",
              "  \n",
              "  Data:\n",
              "  +---------+---------------------+-------+\n",
              "  | user_id |         rmse        | count |\n",
              "  +---------+---------------------+-------+\n",
              "  |    2    |  0.8365581670588297 |   65  |\n",
              "  |    7    |  0.580723327698598  |   7   |\n",
              "  |    3    | 0.27835278621501197 |   43  |\n",
              "  |    1    |  1.446790634928486  |   2   |\n",
              "  +---------+---------------------+-------+\n",
              "  [4 rows x 3 columns],\n",
              "  'rmse_overall': 0.6879155743346752}]"
            ]
          },
          "metadata": {
            "tags": []
          },
          "execution_count": 19
        }
      ]
    },
    {
      "cell_type": "markdown",
      "metadata": {
        "id": "Ytse_YlsQyBg",
        "colab_type": "text"
      },
      "source": [
        "**Now to Test the System**"
      ]
    },
    {
      "cell_type": "code",
      "metadata": {
        "id": "kj7ZPLEZQ5H6",
        "colab_type": "code",
        "outputId": "13da9fb4-88b1-4f43-e5af-1b5f1b9e8512",
        "colab": {
          "base_uri": "https://localhost:8080/",
          "height": 381
        }
      },
      "source": [
        "all_users_rank = ranking_model.recommend(k=5)\n",
        "all_users_rank"
      ],
      "execution_count": 20,
      "outputs": [
        {
          "output_type": "execute_result",
          "data": {
            "text/html": [
              "<div style=\"max-height:1000px;max-width:1500px;overflow:auto;\"><table frame=\"box\" rules=\"cols\">\n",
              "    <tr>\n",
              "        <th style=\"padding-left: 1em; padding-right: 1em; text-align: center\">user_id</th>\n",
              "        <th style=\"padding-left: 1em; padding-right: 1em; text-align: center\">title</th>\n",
              "        <th style=\"padding-left: 1em; padding-right: 1em; text-align: center\">score</th>\n",
              "        <th style=\"padding-left: 1em; padding-right: 1em; text-align: center\">rank</th>\n",
              "    </tr>\n",
              "    <tr>\n",
              "        <td style=\"padding-left: 1em; padding-right: 1em; text-align: center; vertical-align: top\">2191</td>\n",
              "        <td style=\"padding-left: 1em; padding-right: 1em; text-align: center; vertical-align: top\">A CHINESE VILLAGER WHO<br>SELLS MORE SOFTWARE D ...</td>\n",
              "        <td style=\"padding-left: 1em; padding-right: 1em; text-align: center; vertical-align: top\">4.014403133556977</td>\n",
              "        <td style=\"padding-left: 1em; padding-right: 1em; text-align: center; vertical-align: top\">1</td>\n",
              "    </tr>\n",
              "    <tr>\n",
              "        <td style=\"padding-left: 1em; padding-right: 1em; text-align: center; vertical-align: top\">2191</td>\n",
              "        <td style=\"padding-left: 1em; padding-right: 1em; text-align: center; vertical-align: top\">YOUR HIGH IQ WILL KILL<br>YOUR STARTUP ...</td>\n",
              "        <td style=\"padding-left: 1em; padding-right: 1em; text-align: center; vertical-align: top\">4.00893409819974</td>\n",
              "        <td style=\"padding-left: 1em; padding-right: 1em; text-align: center; vertical-align: top\">2</td>\n",
              "    </tr>\n",
              "    <tr>\n",
              "        <td style=\"padding-left: 1em; padding-right: 1em; text-align: center; vertical-align: top\">2191</td>\n",
              "        <td style=\"padding-left: 1em; padding-right: 1em; text-align: center; vertical-align: top\">First</td>\n",
              "        <td style=\"padding-left: 1em; padding-right: 1em; text-align: center; vertical-align: top\">3.8925205384351163</td>\n",
              "        <td style=\"padding-left: 1em; padding-right: 1em; text-align: center; vertical-align: top\">3</td>\n",
              "    </tr>\n",
              "    <tr>\n",
              "        <td style=\"padding-left: 1em; padding-right: 1em; text-align: center; vertical-align: top\">2191</td>\n",
              "        <td style=\"padding-left: 1em; padding-right: 1em; text-align: center; vertical-align: top\">Took a long while</td>\n",
              "        <td style=\"padding-left: 1em; padding-right: 1em; text-align: center; vertical-align: top\">3.8589131710089593</td>\n",
              "        <td style=\"padding-left: 1em; padding-right: 1em; text-align: center; vertical-align: top\">4</td>\n",
              "    </tr>\n",
              "    <tr>\n",
              "        <td style=\"padding-left: 1em; padding-right: 1em; text-align: center; vertical-align: top\">2191</td>\n",
              "        <td style=\"padding-left: 1em; padding-right: 1em; text-align: center; vertical-align: top\">third</td>\n",
              "        <td style=\"padding-left: 1em; padding-right: 1em; text-align: center; vertical-align: top\">3.8281523668177275</td>\n",
              "        <td style=\"padding-left: 1em; padding-right: 1em; text-align: center; vertical-align: top\">5</td>\n",
              "    </tr>\n",
              "    <tr>\n",
              "        <td style=\"padding-left: 1em; padding-right: 1em; text-align: center; vertical-align: top\">4</td>\n",
              "        <td style=\"padding-left: 1em; padding-right: 1em; text-align: center; vertical-align: top\">YOUR HIGH IQ WILL KILL<br>YOUR STARTUP ...</td>\n",
              "        <td style=\"padding-left: 1em; padding-right: 1em; text-align: center; vertical-align: top\">3.9247749718108995</td>\n",
              "        <td style=\"padding-left: 1em; padding-right: 1em; text-align: center; vertical-align: top\">1</td>\n",
              "    </tr>\n",
              "    <tr>\n",
              "        <td style=\"padding-left: 1em; padding-right: 1em; text-align: center; vertical-align: top\">4</td>\n",
              "        <td style=\"padding-left: 1em; padding-right: 1em; text-align: center; vertical-align: top\">A CHINESE VILLAGER WHO<br>SELLS MORE SOFTWARE D ...</td>\n",
              "        <td style=\"padding-left: 1em; padding-right: 1em; text-align: center; vertical-align: top\">3.815120154080711</td>\n",
              "        <td style=\"padding-left: 1em; padding-right: 1em; text-align: center; vertical-align: top\">2</td>\n",
              "    </tr>\n",
              "    <tr>\n",
              "        <td style=\"padding-left: 1em; padding-right: 1em; text-align: center; vertical-align: top\">4</td>\n",
              "        <td style=\"padding-left: 1em; padding-right: 1em; text-align: center; vertical-align: top\">BUILD AROUND YOUR<br>DISCOVERY MECHANISM ...</td>\n",
              "        <td style=\"padding-left: 1em; padding-right: 1em; text-align: center; vertical-align: top\">3.6308440482446773</td>\n",
              "        <td style=\"padding-left: 1em; padding-right: 1em; text-align: center; vertical-align: top\">3</td>\n",
              "    </tr>\n",
              "    <tr>\n",
              "        <td style=\"padding-left: 1em; padding-right: 1em; text-align: center; vertical-align: top\">4</td>\n",
              "        <td style=\"padding-left: 1em; padding-right: 1em; text-align: center; vertical-align: top\">THE SUNFLOWER</td>\n",
              "        <td style=\"padding-left: 1em; padding-right: 1em; text-align: center; vertical-align: top\">3.558511105386339</td>\n",
              "        <td style=\"padding-left: 1em; padding-right: 1em; text-align: center; vertical-align: top\">4</td>\n",
              "    </tr>\n",
              "    <tr>\n",
              "        <td style=\"padding-left: 1em; padding-right: 1em; text-align: center; vertical-align: top\">4</td>\n",
              "        <td style=\"padding-left: 1em; padding-right: 1em; text-align: center; vertical-align: top\">DON&#x27;T ASK WHY YOU WERE<br>REJECTED ...</td>\n",
              "        <td style=\"padding-left: 1em; padding-right: 1em; text-align: center; vertical-align: top\">3.551783571971379</td>\n",
              "        <td style=\"padding-left: 1em; padding-right: 1em; text-align: center; vertical-align: top\">5</td>\n",
              "    </tr>\n",
              "</table>\n",
              "[40 rows x 4 columns]<br/>Note: Only the head of the SFrame is printed.<br/>You can use print_rows(num_rows=m, num_columns=n) to print more rows and columns.\n",
              "</div>"
            ],
            "text/plain": [
              "Columns:\n",
              "\tuser_id\tint\n",
              "\ttitle\tstr\n",
              "\tscore\tfloat\n",
              "\trank\tint\n",
              "\n",
              "Rows: 40\n",
              "\n",
              "Data:\n",
              "+---------+-------------------------------+--------------------+------+\n",
              "| user_id |             title             |       score        | rank |\n",
              "+---------+-------------------------------+--------------------+------+\n",
              "|   2191  | A CHINESE VILLAGER WHO SEL... | 4.014403133556977  |  1   |\n",
              "|   2191  | YOUR HIGH IQ WILL KILL YOU... |  4.00893409819974  |  2   |\n",
              "|   2191  |             First             | 3.8925205384351163 |  3   |\n",
              "|   2191  |       Took a long while       | 3.8589131710089593 |  4   |\n",
              "|   2191  |             third             | 3.8281523668177275 |  5   |\n",
              "|    4    | YOUR HIGH IQ WILL KILL YOU... | 3.9247749718108995 |  1   |\n",
              "|    4    | A CHINESE VILLAGER WHO SEL... | 3.815120154080711  |  2   |\n",
              "|    4    | BUILD AROUND YOUR DISCOVER... | 3.6308440482446773 |  3   |\n",
              "|    4    |         THE SUNFLOWER         | 3.558511105386339  |  4   |\n",
              "|    4    | DON'T ASK WHY YOU WERE REJ... | 3.551783571971379  |  5   |\n",
              "+---------+-------------------------------+--------------------+------+\n",
              "[40 rows x 4 columns]\n",
              "Note: Only the head of the SFrame is printed.\n",
              "You can use print_rows(num_rows=m, num_columns=n) to print more rows and columns."
            ]
          },
          "metadata": {
            "tags": []
          },
          "execution_count": 20
        }
      ]
    },
    {
      "cell_type": "markdown",
      "metadata": {
        "id": "2lVj6eS2RmGr",
        "colab_type": "text"
      },
      "source": [
        "Making Recommendations for new users"
      ]
    },
    {
      "cell_type": "code",
      "metadata": {
        "id": "dYV-kHYsRr86",
        "colab_type": "code",
        "outputId": "7cb1c737-d9f3-4389-d1d5-4baeceaae608",
        "colab": {
          "base_uri": "https://localhost:8080/",
          "height": 163
        }
      },
      "source": [
        "#user_id 2020 is a new user\n",
        "rank_factor = ranking_model.recommend(users=[2020], k=3)\n",
        "rank_factor"
      ],
      "execution_count": 23,
      "outputs": [
        {
          "output_type": "execute_result",
          "data": {
            "text/html": [
              "<div style=\"max-height:1000px;max-width:1500px;overflow:auto;\"><table frame=\"box\" rules=\"cols\">\n",
              "    <tr>\n",
              "        <th style=\"padding-left: 1em; padding-right: 1em; text-align: center\">user_id</th>\n",
              "        <th style=\"padding-left: 1em; padding-right: 1em; text-align: center\">title</th>\n",
              "        <th style=\"padding-left: 1em; padding-right: 1em; text-align: center\">score</th>\n",
              "        <th style=\"padding-left: 1em; padding-right: 1em; text-align: center\">rank</th>\n",
              "    </tr>\n",
              "    <tr>\n",
              "        <td style=\"padding-left: 1em; padding-right: 1em; text-align: center; vertical-align: top\">2020</td>\n",
              "        <td style=\"padding-left: 1em; padding-right: 1em; text-align: center; vertical-align: top\">YOUR HIGH IQ WILL KILL<br>YOUR STARTUP ...</td>\n",
              "        <td style=\"padding-left: 1em; padding-right: 1em; text-align: center; vertical-align: top\">4.100179192630373</td>\n",
              "        <td style=\"padding-left: 1em; padding-right: 1em; text-align: center; vertical-align: top\">1</td>\n",
              "    </tr>\n",
              "    <tr>\n",
              "        <td style=\"padding-left: 1em; padding-right: 1em; text-align: center; vertical-align: top\">2020</td>\n",
              "        <td style=\"padding-left: 1em; padding-right: 1em; text-align: center; vertical-align: top\">A CHINESE VILLAGER WHO<br>SELLS MORE SOFTWARE D ...</td>\n",
              "        <td style=\"padding-left: 1em; padding-right: 1em; text-align: center; vertical-align: top\">4.059304174987398</td>\n",
              "        <td style=\"padding-left: 1em; padding-right: 1em; text-align: center; vertical-align: top\">2</td>\n",
              "    </tr>\n",
              "    <tr>\n",
              "        <td style=\"padding-left: 1em; padding-right: 1em; text-align: center; vertical-align: top\">2020</td>\n",
              "        <td style=\"padding-left: 1em; padding-right: 1em; text-align: center; vertical-align: top\">BUILD AROUND YOUR<br>DISCOVERY MECHANISM ...</td>\n",
              "        <td style=\"padding-left: 1em; padding-right: 1em; text-align: center; vertical-align: top\">3.8537311004677637</td>\n",
              "        <td style=\"padding-left: 1em; padding-right: 1em; text-align: center; vertical-align: top\">3</td>\n",
              "    </tr>\n",
              "</table>\n",
              "[3 rows x 4 columns]<br/>\n",
              "</div>"
            ],
            "text/plain": [
              "Columns:\n",
              "\tuser_id\tint\n",
              "\ttitle\tstr\n",
              "\tscore\tfloat\n",
              "\trank\tint\n",
              "\n",
              "Rows: 3\n",
              "\n",
              "Data:\n",
              "+---------+-------------------------------+--------------------+------+\n",
              "| user_id |             title             |       score        | rank |\n",
              "+---------+-------------------------------+--------------------+------+\n",
              "|   2020  | YOUR HIGH IQ WILL KILL YOU... | 4.100179192630373  |  1   |\n",
              "|   2020  | A CHINESE VILLAGER WHO SEL... | 4.059304174987398  |  2   |\n",
              "|   2020  | BUILD AROUND YOUR DISCOVER... | 3.8537311004677637 |  3   |\n",
              "+---------+-------------------------------+--------------------+------+\n",
              "[3 rows x 4 columns]"
            ]
          },
          "metadata": {
            "tags": []
          },
          "execution_count": 23
        }
      ]
    },
    {
      "cell_type": "code",
      "metadata": {
        "id": "X8FD_5114dzP",
        "colab_type": "code",
        "colab": {
          "base_uri": "https://localhost:8080/",
          "height": 146
        },
        "outputId": "c974c9ef-c783-4921-b4a0-4ca4b4381133"
      },
      "source": [
        "#testing for a single user\n",
        "rank_user = ranking_model.recommend(users=[1], k =3)\n",
        "rank_user"
      ],
      "execution_count": 24,
      "outputs": [
        {
          "output_type": "execute_result",
          "data": {
            "text/html": [
              "<div style=\"max-height:1000px;max-width:1500px;overflow:auto;\"><table frame=\"box\" rules=\"cols\">\n",
              "    <tr>\n",
              "        <th style=\"padding-left: 1em; padding-right: 1em; text-align: center\">user_id</th>\n",
              "        <th style=\"padding-left: 1em; padding-right: 1em; text-align: center\">title</th>\n",
              "        <th style=\"padding-left: 1em; padding-right: 1em; text-align: center\">score</th>\n",
              "        <th style=\"padding-left: 1em; padding-right: 1em; text-align: center\">rank</th>\n",
              "    </tr>\n",
              "    <tr>\n",
              "        <td style=\"padding-left: 1em; padding-right: 1em; text-align: center; vertical-align: top\">1</td>\n",
              "        <td style=\"padding-left: 1em; padding-right: 1em; text-align: center; vertical-align: top\">Stressful Day</td>\n",
              "        <td style=\"padding-left: 1em; padding-right: 1em; text-align: center; vertical-align: top\">3.666505989638887</td>\n",
              "        <td style=\"padding-left: 1em; padding-right: 1em; text-align: center; vertical-align: top\">1</td>\n",
              "    </tr>\n",
              "    <tr>\n",
              "        <td style=\"padding-left: 1em; padding-right: 1em; text-align: center; vertical-align: top\">1</td>\n",
              "        <td style=\"padding-left: 1em; padding-right: 1em; text-align: center; vertical-align: top\">A CHINESE VILLAGER WHO<br>SELLS MORE SOFTWARE D ...</td>\n",
              "        <td style=\"padding-left: 1em; padding-right: 1em; text-align: center; vertical-align: top\">3.630942461101137</td>\n",
              "        <td style=\"padding-left: 1em; padding-right: 1em; text-align: center; vertical-align: top\">2</td>\n",
              "    </tr>\n",
              "    <tr>\n",
              "        <td style=\"padding-left: 1em; padding-right: 1em; text-align: center; vertical-align: top\">1</td>\n",
              "        <td style=\"padding-left: 1em; padding-right: 1em; text-align: center; vertical-align: top\">Working round the clock<br>on Lucid ...</td>\n",
              "        <td style=\"padding-left: 1em; padding-right: 1em; text-align: center; vertical-align: top\">3.579206627813898</td>\n",
              "        <td style=\"padding-left: 1em; padding-right: 1em; text-align: center; vertical-align: top\">3</td>\n",
              "    </tr>\n",
              "</table>\n",
              "[3 rows x 4 columns]<br/>\n",
              "</div>"
            ],
            "text/plain": [
              "Columns:\n",
              "\tuser_id\tint\n",
              "\ttitle\tstr\n",
              "\tscore\tfloat\n",
              "\trank\tint\n",
              "\n",
              "Rows: 3\n",
              "\n",
              "Data:\n",
              "+---------+-------------------------------+-------------------+------+\n",
              "| user_id |             title             |       score       | rank |\n",
              "+---------+-------------------------------+-------------------+------+\n",
              "|    1    |         Stressful Day         | 3.666505989638887 |  1   |\n",
              "|    1    | A CHINESE VILLAGER WHO SEL... | 3.630942461101137 |  2   |\n",
              "|    1    | Working round the clock on... | 3.579206627813898 |  3   |\n",
              "+---------+-------------------------------+-------------------+------+\n",
              "[3 rows x 4 columns]"
            ]
          },
          "metadata": {
            "tags": []
          },
          "execution_count": 24
        }
      ]
    },
    {
      "cell_type": "code",
      "metadata": {
        "colab_type": "code",
        "outputId": "5c44938f-23c2-43da-ab74-6d497c70dd20",
        "id": "drWdM5i45bff",
        "colab": {
          "base_uri": "https://localhost:8080/",
          "height": 163
        }
      },
      "source": [
        "#testing for a single user\n",
        "rank_user = ranking_model.recommend(users=[123], k =3)\n",
        "rank_user"
      ],
      "execution_count": 25,
      "outputs": [
        {
          "output_type": "execute_result",
          "data": {
            "text/html": [
              "<div style=\"max-height:1000px;max-width:1500px;overflow:auto;\"><table frame=\"box\" rules=\"cols\">\n",
              "    <tr>\n",
              "        <th style=\"padding-left: 1em; padding-right: 1em; text-align: center\">user_id</th>\n",
              "        <th style=\"padding-left: 1em; padding-right: 1em; text-align: center\">title</th>\n",
              "        <th style=\"padding-left: 1em; padding-right: 1em; text-align: center\">score</th>\n",
              "        <th style=\"padding-left: 1em; padding-right: 1em; text-align: center\">rank</th>\n",
              "    </tr>\n",
              "    <tr>\n",
              "        <td style=\"padding-left: 1em; padding-right: 1em; text-align: center; vertical-align: top\">123</td>\n",
              "        <td style=\"padding-left: 1em; padding-right: 1em; text-align: center; vertical-align: top\">YOUR HIGH IQ WILL KILL<br>YOUR STARTUP ...</td>\n",
              "        <td style=\"padding-left: 1em; padding-right: 1em; text-align: center; vertical-align: top\">4.100179192630373</td>\n",
              "        <td style=\"padding-left: 1em; padding-right: 1em; text-align: center; vertical-align: top\">1</td>\n",
              "    </tr>\n",
              "    <tr>\n",
              "        <td style=\"padding-left: 1em; padding-right: 1em; text-align: center; vertical-align: top\">123</td>\n",
              "        <td style=\"padding-left: 1em; padding-right: 1em; text-align: center; vertical-align: top\">A CHINESE VILLAGER WHO<br>SELLS MORE SOFTWARE D ...</td>\n",
              "        <td style=\"padding-left: 1em; padding-right: 1em; text-align: center; vertical-align: top\">4.059304174987398</td>\n",
              "        <td style=\"padding-left: 1em; padding-right: 1em; text-align: center; vertical-align: top\">2</td>\n",
              "    </tr>\n",
              "    <tr>\n",
              "        <td style=\"padding-left: 1em; padding-right: 1em; text-align: center; vertical-align: top\">123</td>\n",
              "        <td style=\"padding-left: 1em; padding-right: 1em; text-align: center; vertical-align: top\">BUILD AROUND YOUR<br>DISCOVERY MECHANISM ...</td>\n",
              "        <td style=\"padding-left: 1em; padding-right: 1em; text-align: center; vertical-align: top\">3.8537311004677637</td>\n",
              "        <td style=\"padding-left: 1em; padding-right: 1em; text-align: center; vertical-align: top\">3</td>\n",
              "    </tr>\n",
              "</table>\n",
              "[3 rows x 4 columns]<br/>\n",
              "</div>"
            ],
            "text/plain": [
              "Columns:\n",
              "\tuser_id\tint\n",
              "\ttitle\tstr\n",
              "\tscore\tfloat\n",
              "\trank\tint\n",
              "\n",
              "Rows: 3\n",
              "\n",
              "Data:\n",
              "+---------+-------------------------------+--------------------+------+\n",
              "| user_id |             title             |       score        | rank |\n",
              "+---------+-------------------------------+--------------------+------+\n",
              "|   123   | YOUR HIGH IQ WILL KILL YOU... | 4.100179192630373  |  1   |\n",
              "|   123   | A CHINESE VILLAGER WHO SEL... | 4.059304174987398  |  2   |\n",
              "|   123   | BUILD AROUND YOUR DISCOVER... | 3.8537311004677637 |  3   |\n",
              "+---------+-------------------------------+--------------------+------+\n",
              "[3 rows x 4 columns]"
            ]
          },
          "metadata": {
            "tags": []
          },
          "execution_count": 25
        }
      ]
    }
  ]
}